{
 "cells": [
  {
   "cell_type": "markdown",
   "metadata": {},
   "source": [
    "# Data Scientist Nanodegree\n",
    "\n",
    "## Convolutional Neural Networks\n",
    "\n",
    "## Project: Write an Algorithm for a Dog Identification App \n",
    "\n",
    "\n",
    "This notebook walks you through one of the most popular Udacity projects across machine learning and artificial intellegence nanodegree programs.  The goal is to classify images of dogs according to their breed.  \n",
    "\n",
    "If you are looking for a more guided capstone project related to deep learning and convolutional neural networks, this might be just it.  Notice that even if you follow the notebook to creating your classifier, you must still create a blog post or deploy an application to fulfill the requirements of the capstone project.\n",
    "\n",
    "Also notice, you may be able to use only parts of this notebook (for example certain coding portions or the data) without completing all parts and still meet all requirements of the capstone project.\n",
    "\n",
    "---\n",
    "\n",
    "In this notebook, some template code has already been provided for you, and you will need to implement additional functionality to successfully complete this project. You will not need to modify the included code beyond what is requested. Sections that begin with **'(IMPLEMENTATION)'** in the header indicate that the following block of code will require additional functionality which you must provide. Instructions will be provided for each section, and the specifics of the implementation are marked in the code block with a 'TODO' statement. Please be sure to read the instructions carefully! \n",
    "\n",
    "In addition to implementing code, there will be questions that you must answer which relate to the project and your implementation. Each section where you will answer a question is preceded by a **'Question X'** header. Carefully read each question and provide thorough answers in the following text boxes that begin with **'Answer:'**. Your project submission will be evaluated based on your answers to each of the questions and the implementation you provide.\n",
    "\n",
    ">**Note:** Code and Markdown cells can be executed using the **Shift + Enter** keyboard shortcut.  Markdown cells can be edited by double-clicking the cell to enter edit mode.\n",
    "\n",
    "The rubric contains _optional_ \"Stand Out Suggestions\" for enhancing the project beyond the minimum requirements. If you decide to pursue the \"Stand Out Suggestions\", you should include the code in this IPython notebook.\n",
    "\n",
    "\n",
    "\n",
    "---\n",
    "### Why We're Here \n",
    "\n",
    "In this notebook, you will make the first steps towards developing an algorithm that could be used as part of a mobile or web app.  At the end of this project, your code will accept any user-supplied image as input.  If a dog is detected in the image, it will provide an estimate of the dog's breed.  If a human is detected, it will provide an estimate of the dog breed that is most resembling.  The image below displays potential sample output of your finished project (... but we expect that each student's algorithm will behave differently!). \n",
    "\n",
    "![Sample Dog Output](images/sample_dog_output.png)\n",
    "\n",
    "In this real-world setting, you will need to piece together a series of models to perform different tasks; for instance, the algorithm that detects humans in an image will be different from the CNN that infers dog breed.  There are many points of possible failure, and no perfect algorithm exists.  Your imperfect solution will nonetheless create a fun user experience!\n",
    "\n",
    "### The Road Ahead\n",
    "\n",
    "We break the notebook into separate steps.  Feel free to use the links below to navigate the notebook.\n",
    "\n",
    "* [Step 0](#step0): Import Datasets\n",
    "* [Step 1](#step1): Detect Humans\n",
    "* [Step 2](#step2): Detect Dogs\n",
    "* [Step 3](#step3): Create a CNN to Classify Dog Breeds (from Scratch)\n",
    "* [Step 4](#step4): Use a CNN to Classify Dog Breeds (using Transfer Learning)\n",
    "* [Step 5](#step5): Create a CNN to Classify Dog Breeds (using Transfer Learning)\n",
    "* [Step 6](#step6): Write your Algorithm\n",
    "* [Step 7](#step7): Test Your Algorithm\n",
    "\n",
    "---\n",
    "<a id='step0'></a>\n",
    "## Step 0: Import Datasets\n",
    "\n",
    "### Import Dog Dataset\n",
    "\n",
    "In the code cell below, we import a dataset of dog images.  We populate a few variables through the use of the `load_files` function from the scikit-learn library:\n",
    "- `train_files`, `valid_files`, `test_files` - numpy arrays containing file paths to images\n",
    "- `train_targets`, `valid_targets`, `test_targets` - numpy arrays containing onehot-encoded classification labels \n",
    "- `dog_names` - list of string-valued dog breed names for translating labels"
   ]
  },
  {
   "cell_type": "code",
   "execution_count": 1,
   "metadata": {},
   "outputs": [],
   "source": [
    "import tensorflow as tf\n",
    "gpus = tf.config.experimental.list_physical_devices('GPU')\n",
    "for gpu in gpus:\n",
    "    tf.config.experimental.set_memory_growth(gpu, True)"
   ]
  },
  {
   "cell_type": "code",
   "execution_count": 36,
   "metadata": {},
   "outputs": [
    {
     "name": "stdout",
     "output_type": "stream",
     "text": [
      "There are 133 total dog categories.\n",
      "There are 8351 total dog images.\n",
      "There are 6680 training dog images.\n",
      "There are 835 validation dog images.\n",
      "There are 836 test dog images.\n"
     ]
    }
   ],
   "source": [
    "from sklearn.datasets import load_files       \n",
    "from keras.utils import np_utils\n",
    "import numpy as np\n",
    "from glob import glob\n",
    "\n",
    "# Define function to load train, test, and validation datasets\n",
    "def load_dataset(path):\n",
    "    data = load_files(path)\n",
    "    dog_files = data['filenames']\n",
    "    dog_targets = np_utils.to_categorical(np.array(data['target']), 133)\n",
    "    return dog_files, dog_targets\n",
    "\n",
    "# Load train, test, and validation datasets\n",
    "train_files, train_targets = load_dataset('data/dogImages/train')\n",
    "valid_files, valid_targets = load_dataset('data/dogImages/valid')\n",
    "test_files, test_targets = load_dataset('data/dogImages/test')\n",
    "\n",
    "# Load list of dog names\n",
    "dog_names = [item[item.index('.')+1:-1] for item in sorted(glob(\"data/dogImages/train/*/\"))]\n",
    "\n",
    "# Print statistics about the dataset\n",
    "print(f'There are {len(dog_names)} total dog categories.')\n",
    "print(f'There are {len(train_files) + len(valid_files) + len(test_files)} total dog images.')\n",
    "print(f'There are {len(train_files)} training dog images.')\n",
    "print(f'There are {len(valid_files)} validation dog images.')\n",
    "print(f'There are {len(test_files)} test dog images.')"
   ]
  },
  {
   "cell_type": "markdown",
   "metadata": {},
   "source": [
    "### Import Human Dataset\n",
    "\n",
    "In the code cell below, we import a dataset of human images, where the file paths are stored in the numpy array `human_files`."
   ]
  },
  {
   "cell_type": "code",
   "execution_count": 3,
   "metadata": {},
   "outputs": [
    {
     "name": "stdout",
     "output_type": "stream",
     "text": [
      "There are 13233 total human images.\n"
     ]
    }
   ],
   "source": [
    "import random\n",
    "random.seed(8675309)\n",
    "\n",
    "# Load filenames in shuffled human dataset\n",
    "human_files = np.array(glob(\"data/lfw/*/*\"))\n",
    "random.shuffle(human_files)\n",
    "\n",
    "# Print statistics about the human dataset\n",
    "print(f'There are {len(human_files)} total human images.')"
   ]
  },
  {
   "cell_type": "markdown",
   "metadata": {},
   "source": [
    "---\n",
    "<a id='step1'></a>\n",
    "## Step 1: Detect Humans\n",
    "\n",
    "We use OpenCV's implementation of [Haar feature-based cascade classifiers](http://docs.opencv.org/trunk/d7/d8b/tutorial_py_face_detection.html) to detect human faces in images.  OpenCV provides many pre-trained face detectors, stored as XML files on [github](https://github.com/opencv/opencv/tree/master/data/haarcascades).  We have downloaded one of these detectors and stored it in the `haarcascades` directory.\n",
    "\n",
    "In the next code cell, we demonstrate how to use this detector to find human faces in a sample image."
   ]
  },
  {
   "cell_type": "code",
   "execution_count": 4,
   "metadata": {},
   "outputs": [
    {
     "name": "stdout",
     "output_type": "stream",
     "text": [
      "Number of faces detected: 1\n"
     ]
    },
    {
     "data": {
      "image/png": "[encoded data removed]",
      "text/plain": [
       "<Figure size 640x480 with 1 Axes>"
      ]
     },
     "metadata": {},
     "output_type": "display_data"
    }
   ],
   "source": [
    "import cv2                \n",
    "import matplotlib.pyplot as plt                        \n",
    "%matplotlib inline                               \n",
    "\n",
    "# extract pre-trained face detector\n",
    "face_cascade = cv2.CascadeClassifier('haarcascades/haarcascade_frontalface_alt.xml')\n",
    "\n",
    "# load color (BGR) image\n",
    "img = cv2.imread(human_files[3])\n",
    "# convert BGR image to grayscale\n",
    "gray = cv2.cvtColor(img, cv2.COLOR_BGR2GRAY)\n",
    "\n",
    "# find faces in image\n",
    "faces = face_cascade.detectMultiScale(gray)\n",
    "\n",
    "# print number of faces detected in the image\n",
    "print('Number of faces detected:', len(faces))\n",
    "\n",
    "# get bounding box for each detected face\n",
    "for (x,y,w,h) in faces:\n",
    "    # add bounding box to color image\n",
    "    cv2.rectangle(img,(x,y),(x+w,y+h),(255,0,0),2)\n",
    "    \n",
    "# convert BGR image to RGB for plotting\n",
    "cv_rgb = cv2.cvtColor(img, cv2.COLOR_BGR2RGB)\n",
    "\n",
    "# display the image, along with bounding box\n",
    "plt.imshow(cv_rgb)\n",
    "plt.show()"
   ]
  },
  {
   "cell_type": "markdown",
   "metadata": {},
   "source": [
    "Before using any of the face detectors, it is standard procedure to convert the images to grayscale.  The `detectMultiScale` function executes the classifier stored in `face_cascade` and takes the grayscale image as a parameter.  \n",
    "\n",
    "In the above code, `faces` is a numpy array of detected faces, where each row corresponds to a detected face.  Each detected face is a 1D array with four entries that specifies the bounding box of the detected face.  The first two entries in the array (extracted in the above code as `x` and `y`) specify the horizontal and vertical positions of the top left corner of the bounding box.  The last two entries in the array (extracted here as `w` and `h`) specify the width and height of the box.\n",
    "\n",
    "### Write a Human Face Detector\n",
    "\n",
    "We can use this procedure to write a function that returns `True` if a human face is detected in an image and `False` otherwise.  This function, aptly named `face_detector`, takes a string-valued file path to an image as input and appears in the code block below."
   ]
  },
  {
   "cell_type": "code",
   "execution_count": 5,
   "metadata": {},
   "outputs": [],
   "source": [
    "# returns \"True\" if face is detected in image stored at img_path\n",
    "def face_detector(img_path):\n",
    "    img = cv2.imread(img_path)\n",
    "    gray = cv2.cvtColor(img, cv2.COLOR_BGR2GRAY)\n",
    "    faces = face_cascade.detectMultiScale(gray)\n",
    "    return len(faces) > 0"
   ]
  },
  {
   "cell_type": "markdown",
   "metadata": {},
   "source": [
    "### (IMPLEMENTATION) Assess the Human Face Detector\n",
    "\n",
    "__Question 1:__ Use the code cell below to test the performance of the `face_detector` function.  \n",
    "- What percentage of the first 100 images in `human_files` have a detected human face?  \n",
    "- What percentage of the first 100 images in `dog_files` have a detected human face? \n",
    "\n",
    "Ideally, we would like 100% of human images with a detected face and 0% of dog images with a detected face.  You will see that our algorithm falls short of this goal, but still gives acceptable performance.  We extract the file paths for the first 100 images from each of the datasets and store them in the numpy arrays `human_files_short` and `dog_files_short`.\n",
    "\n",
    "__Answer:__ "
   ]
  },
  {
   "cell_type": "code",
   "execution_count": 6,
   "metadata": {},
   "outputs": [
    {
     "name": "stdout",
     "output_type": "stream",
     "text": [
      "99% of the first 100 images in human_files have a detected human face\n",
      "12% of the first 100 images in dog_files have a detected human face\n"
     ]
    }
   ],
   "source": [
    "human_files_short = human_files[:100]\n",
    "dog_files_short = train_files[:100]\n",
    "# Do NOT modify the code above this line.\n",
    "\n",
    "## TODO: Test the performance of the face_detector algorithm \n",
    "## on the images in human_files_short and dog_files_short.\n",
    "is_human_human = [face_detector(img) for img in human_files_short]\n",
    "perc_human_human = 100 * np.mean(is_human_human)\n",
    "print(\"{:.0f}% of the first 100 images in human_files have a detected human face\"\n",
    "          .format(perc_human_human))\n",
    "\n",
    "is_dog_human = [face_detector(img) for img in dog_files_short]\n",
    "perc_dog_human = 100 * np.mean(is_dog_human)\n",
    "print(\"{:.0f}% of the first 100 images in dog_files have a detected human face\"\n",
    "          .format(perc_dog_human))"
   ]
  },
  {
   "cell_type": "markdown",
   "metadata": {},
   "source": [
    "__Question 2:__ This algorithmic choice necessitates that we communicate to the user that we accept human images only when they provide a clear view of a face (otherwise, we risk having unneccessarily frustrated users!). In your opinion, is this a reasonable expectation to pose on the user? If not, can you think of a way to detect humans in images that does not necessitate an image with a clearly presented face?\n",
    "\n",
    "__Answer:__\n",
    "\n",
    "We suggest the face detector from OpenCV as a potential way to detect human images in your algorithm, but you are free to explore other approaches, especially approaches that make use of deep learning :).  Please use the code cell below to design and test your own face detection algorithm.  If you decide to pursue this _optional_ task, report performance on each of the datasets."
   ]
  },
  {
   "cell_type": "code",
   "execution_count": 7,
   "metadata": {
    "collapsed": true
   },
   "outputs": [],
   "source": [
    "## (Optional) TODO: Report the performance of another  \n",
    "## face detection algorithm on the LFW dataset\n",
    "### Feel free to use as many code cells as needed."
   ]
  },
  {
   "cell_type": "markdown",
   "metadata": {},
   "source": [
    "---\n",
    "<a id='step2'></a>\n",
    "## Step 2: Detect Dogs\n",
    "\n",
    "In this section, we use a pre-trained [ResNet-50](http://ethereon.github.io/netscope/#/gist/db945b393d40bfa26006) model to detect dogs in images.  Our first line of code downloads the ResNet-50 model, along with weights that have been trained on [ImageNet](http://www.image-net.org/), a very large, very popular dataset used for image classification and other vision tasks.  ImageNet contains over 10 million URLs, each linking to an image containing an object from one of [1000 categories](https://gist.github.com/yrevar/942d3a0ac09ec9e5eb3a).  Given an image, this pre-trained ResNet-50 model returns a prediction (derived from the available categories in ImageNet) for the object that is contained in the image."
   ]
  },
  {
   "cell_type": "code",
   "execution_count": 8,
   "metadata": {},
   "outputs": [],
   "source": [
    "from tensorflow.keras.applications.resnet50 import ResNet50\n",
    "\n",
    "# define ResNet50 model\n",
    "ResNet50_model = ResNet50(weights='imagenet')"
   ]
  },
  {
   "cell_type": "markdown",
   "metadata": {},
   "source": [
    "### Pre-process the Data\n",
    "\n",
    "When using TensorFlow as backend, Keras CNNs require a 4D array (which we'll also refer to as a 4D tensor) as input, with shape\n",
    "$$\n",
    "(\\text{nb\\_samples}, \\text{rows}, \\text{columns}, \\text{channels}),\n",
    "$$\n",
    "\n",
    "where `nb_samples` corresponds to the total number of images (or samples), and `rows`, `columns`, and `channels` correspond to the number of rows, columns, and channels for each image, respectively.  \n",
    "\n",
    "The `path_to_tensor` function below takes a string-valued file path to a color image as input and returns a 4D tensor suitable for supplying to a Keras CNN.  The function first loads the image and resizes it to a square image that is $224 \\times 224$ pixels.  Next, the image is converted to an array, which is then resized to a 4D tensor.  In this case, since we are working with color images, each image has three channels.  Likewise, since we are processing a single image (or sample), the returned tensor will always have shape\n",
    "\n",
    "$$\n",
    "(1, 224, 224, 3).\n",
    "$$\n",
    "\n",
    "The `paths_to_tensor` function takes a numpy array of string-valued image paths as input and returns a 4D tensor with shape \n",
    "\n",
    "$$\n",
    "(\\text{nb\\_samples}, 224, 224, 3).\n",
    "$$\n",
    "\n",
    "Here, `nb_samples` is the number of samples, or number of images, in the supplied array of image paths.  It is best to think of `nb_samples` as the number of 3D tensors (where each 3D tensor corresponds to a different image) in your dataset!"
   ]
  },
  {
   "cell_type": "code",
   "execution_count": 9,
   "metadata": {},
   "outputs": [],
   "source": [
    "from tensorflow.keras.utils import img_to_array, load_img\n",
    "from tqdm import tqdm\n",
    "\n",
    "def path_to_tensor(img_path):\n",
    "    try:\n",
    "        img = load_img(img_path, target_size=(224, 224))\n",
    "        x = img_to_array(img)\n",
    "        # Normalize the image tensor\n",
    "        return np.expand_dims(x, axis=0)\n",
    "    except IOError:\n",
    "        print(f\"Warning: Skipping corrupted image {img_path}\")\n",
    "        return None\n",
    "\n",
    "def paths_to_tensor(img_paths):\n",
    "    batch_tensors = []\n",
    "    for img_path in img_paths:\n",
    "        tensor = path_to_tensor(img_path)\n",
    "        if tensor is not None:\n",
    "            batch_tensors.append(tensor[0])\n",
    "    return np.array(batch_tensors)"
   ]
  },
  {
   "cell_type": "markdown",
   "metadata": {},
   "source": [
    "### Making Predictions with ResNet-50\n",
    "\n",
    "Getting the 4D tensor ready for ResNet-50, and for any other pre-trained model in Keras, requires some additional processing.  First, the RGB image is converted to BGR by reordering the channels.  All pre-trained models have the additional normalization step that the mean pixel (expressed in RGB as $[103.939, 116.779, 123.68]$ and calculated from all pixels in all images in ImageNet) must be subtracted from every pixel in each image.  This is implemented in the imported function `preprocess_input`.  If you're curious, you can check the code for `preprocess_input` [here](https://github.com/fchollet/keras/blob/master/keras/applications/imagenet_utils.py).\n",
    "\n",
    "Now that we have a way to format our image for supplying to ResNet-50, we are now ready to use the model to extract the predictions.  This is accomplished with the `predict` method, which returns an array whose $i$-th entry is the model's predicted probability that the image belongs to the $i$-th ImageNet category.  This is implemented in the `ResNet50_predict_labels` function below.\n",
    "\n",
    "By taking the argmax of the predicted probability vector, we obtain an integer corresponding to the model's predicted object class, which we can identify with an object category through the use of this [dictionary](https://gist.github.com/yrevar/942d3a0ac09ec9e5eb3a). "
   ]
  },
  {
   "cell_type": "code",
   "execution_count": 10,
   "metadata": {},
   "outputs": [],
   "source": [
    "from tensorflow.keras.applications.resnet50 import preprocess_input, decode_predictions\n",
    "\n",
    "def ResNet50_predict_labels(img_path):\n",
    "    # returns prediction vector for image located at img_path\n",
    "    img = preprocess_input(path_to_tensor(img_path))\n",
    "    return np.argmax(ResNet50_model.predict(img))"
   ]
  },
  {
   "cell_type": "markdown",
   "metadata": {},
   "source": [
    "### Write a Dog Detector\n",
    "\n",
    "While looking at the [dictionary](https://gist.github.com/yrevar/942d3a0ac09ec9e5eb3a), you will notice that the categories corresponding to dogs appear in an uninterrupted sequence and correspond to dictionary keys 151-268, inclusive, to include all categories from `'Chihuahua'` to `'Mexican hairless'`.  Thus, in order to check to see if an image is predicted to contain a dog by the pre-trained ResNet-50 model, we need only check if the `ResNet50_predict_labels` function above returns a value between 151 and 268 (inclusive).\n",
    "\n",
    "We use these ideas to complete the `dog_detector` function below, which returns `True` if a dog is detected in an image (and `False` if not)."
   ]
  },
  {
   "cell_type": "code",
   "execution_count": 11,
   "metadata": {},
   "outputs": [],
   "source": [
    "### returns \"True\" if a dog is detected in the image stored at img_path\n",
    "def dog_detector(img_path):\n",
    "    prediction = ResNet50_predict_labels(img_path)\n",
    "    return ((prediction <= 268) & (prediction >= 151)) "
   ]
  },
  {
   "cell_type": "markdown",
   "metadata": {},
   "source": [
    "### (IMPLEMENTATION) Assess the Dog Detector\n",
    "\n",
    "__Question 3:__ Use the code cell below to test the performance of your `dog_detector` function.  \n",
    "- What percentage of the images in `human_files_short` have a detected dog?  \n",
    "- What percentage of the images in `dog_files_short` have a detected dog?\n",
    "\n",
    "__Answer:__ "
   ]
  },
  {
   "cell_type": "code",
   "execution_count": 12,
   "metadata": {},
   "outputs": [
    {
     "name": "stdout",
     "output_type": "stream",
     "text": [
      "1/1 [==============================] - 5s 5s/step\n",
      "1/1 [==============================] - 0s 21ms/step\n",
      "1/1 [==============================] - 0s 17ms/step\n",
      "1/1 [==============================] - 0s 18ms/step\n",
      "1/1 [==============================] - 0s 20ms/step\n",
      "1/1 [==============================] - 0s 22ms/step\n",
      "1/1 [==============================] - 0s 17ms/step\n",
      "1/1 [==============================] - 0s 20ms/step\n",
      "1/1 [==============================] - 0s 20ms/step\n",
      "1/1 [==============================] - 0s 19ms/step\n",
      "1/1 [==============================] - 0s 18ms/step\n",
      "1/1 [==============================] - 0s 18ms/step\n",
      "1/1 [==============================] - 0s 20ms/step\n",
      "1/1 [==============================] - 0s 19ms/step\n",
      "1/1 [==============================] - 0s 18ms/step\n",
      "1/1 [==============================] - 0s 19ms/step\n",
      "1/1 [==============================] - 0s 18ms/step\n",
      "1/1 [==============================] - 0s 17ms/step\n",
      "1/1 [==============================] - 0s 18ms/step\n",
      "1/1 [==============================] - 0s 18ms/step\n",
      "1/1 [==============================] - 0s 18ms/step\n",
      "1/1 [==============================] - 0s 17ms/step\n",
      "1/1 [==============================] - 0s 18ms/step\n",
      "1/1 [==============================] - 0s 20ms/step\n",
      "1/1 [==============================] - 0s 22ms/step\n",
      "1/1 [==============================] - 0s 23ms/step\n",
      "1/1 [==============================] - 0s 19ms/step\n",
      "1/1 [==============================] - 0s 20ms/step\n",
      "1/1 [==============================] - 0s 18ms/step\n",
      "1/1 [==============================] - 0s 19ms/step\n",
      "1/1 [==============================] - 0s 18ms/step\n",
      "1/1 [==============================] - 0s 20ms/step\n",
      "1/1 [==============================] - 0s 19ms/step\n",
      "1/1 [==============================] - 0s 20ms/step\n",
      "1/1 [==============================] - 0s 17ms/step\n",
      "1/1 [==============================] - 0s 19ms/step\n",
      "1/1 [==============================] - 0s 19ms/step\n",
      "1/1 [==============================] - 0s 18ms/step\n",
      "1/1 [==============================] - 0s 19ms/step\n",
      "1/1 [==============================] - 0s 18ms/step\n",
      "1/1 [==============================] - 0s 18ms/step\n",
      "1/1 [==============================] - 0s 19ms/step\n",
      "1/1 [==============================] - 0s 18ms/step\n",
      "1/1 [==============================] - 0s 19ms/step\n",
      "1/1 [==============================] - 0s 19ms/step\n",
      "1/1 [==============================] - 0s 18ms/step\n",
      "1/1 [==============================] - 0s 18ms/step\n",
      "1/1 [==============================] - 0s 21ms/step\n",
      "1/1 [==============================] - 0s 18ms/step\n",
      "1/1 [==============================] - 0s 19ms/step\n",
      "1/1 [==============================] - 0s 19ms/step\n",
      "1/1 [==============================] - 0s 18ms/step\n",
      "1/1 [==============================] - 0s 20ms/step\n",
      "1/1 [==============================] - 0s 18ms/step\n",
      "1/1 [==============================] - 0s 18ms/step\n",
      "1/1 [==============================] - 0s 20ms/step\n",
      "1/1 [==============================] - 0s 18ms/step\n",
      "1/1 [==============================] - 0s 18ms/step\n",
      "1/1 [==============================] - 0s 18ms/step\n",
      "1/1 [==============================] - 0s 18ms/step\n",
      "1/1 [==============================] - 0s 18ms/step\n",
      "1/1 [==============================] - 0s 19ms/step\n",
      "1/1 [==============================] - 0s 18ms/step\n",
      "1/1 [==============================] - 0s 19ms/step\n",
      "1/1 [==============================] - 0s 18ms/step\n",
      "1/1 [==============================] - 0s 17ms/step\n",
      "1/1 [==============================] - 0s 20ms/step\n",
      "1/1 [==============================] - 0s 19ms/step\n",
      "1/1 [==============================] - 0s 17ms/step\n",
      "1/1 [==============================] - 0s 18ms/step\n",
      "1/1 [==============================] - 0s 16ms/step\n",
      "1/1 [==============================] - 0s 17ms/step\n",
      "1/1 [==============================] - 0s 18ms/step\n",
      "1/1 [==============================] - 0s 19ms/step\n",
      "1/1 [==============================] - 0s 19ms/step\n",
      "1/1 [==============================] - 0s 22ms/step\n",
      "1/1 [==============================] - 0s 23ms/step\n",
      "1/1 [==============================] - 0s 19ms/step\n",
      "1/1 [==============================] - 0s 19ms/step\n",
      "1/1 [==============================] - 0s 17ms/step\n",
      "1/1 [==============================] - 0s 18ms/step\n",
      "1/1 [==============================] - 0s 18ms/step\n",
      "1/1 [==============================] - 0s 19ms/step\n",
      "1/1 [==============================] - 0s 18ms/step\n",
      "1/1 [==============================] - 0s 18ms/step\n",
      "1/1 [==============================] - 0s 18ms/step\n",
      "1/1 [==============================] - 0s 18ms/step\n",
      "1/1 [==============================] - 0s 18ms/step\n",
      "1/1 [==============================] - 0s 19ms/step\n",
      "1/1 [==============================] - 0s 17ms/step\n",
      "1/1 [==============================] - 0s 17ms/step\n",
      "1/1 [==============================] - 0s 18ms/step\n",
      "1/1 [==============================] - 0s 19ms/step\n",
      "1/1 [==============================] - 0s 18ms/step\n",
      "1/1 [==============================] - 0s 18ms/step\n",
      "1/1 [==============================] - 0s 18ms/step\n",
      "1/1 [==============================] - 0s 18ms/step\n",
      "1/1 [==============================] - 0s 18ms/step\n",
      "1/1 [==============================] - 0s 18ms/step\n",
      "1/1 [==============================] - 0s 18ms/step\n",
      "0% of the first 100 images in human_files have a detected dog\n",
      "1/1 [==============================] - 0s 19ms/step\n",
      "1/1 [==============================] - 0s 20ms/step\n",
      "1/1 [==============================] - 0s 18ms/step\n",
      "1/1 [==============================] - 0s 17ms/step\n",
      "1/1 [==============================] - 0s 21ms/step\n",
      "1/1 [==============================] - 0s 17ms/step\n",
      "1/1 [==============================] - 0s 20ms/step\n",
      "1/1 [==============================] - 0s 17ms/step\n",
      "1/1 [==============================] - 0s 17ms/step\n",
      "1/1 [==============================] - 0s 18ms/step\n",
      "1/1 [==============================] - 0s 19ms/step\n",
      "1/1 [==============================] - 0s 17ms/step\n",
      "1/1 [==============================] - 0s 17ms/step\n",
      "1/1 [==============================] - 0s 18ms/step\n",
      "1/1 [==============================] - 0s 19ms/step\n",
      "1/1 [==============================] - 0s 21ms/step\n",
      "1/1 [==============================] - 0s 18ms/step\n",
      "1/1 [==============================] - 0s 18ms/step\n",
      "1/1 [==============================] - 0s 17ms/step\n",
      "1/1 [==============================] - 0s 18ms/step\n",
      "1/1 [==============================] - 0s 19ms/step\n",
      "1/1 [==============================] - 0s 17ms/step\n",
      "1/1 [==============================] - 0s 17ms/step\n",
      "1/1 [==============================] - 0s 19ms/step\n",
      "1/1 [==============================] - 0s 18ms/step\n",
      "1/1 [==============================] - 0s 17ms/step\n",
      "1/1 [==============================] - 0s 17ms/step\n",
      "1/1 [==============================] - 0s 20ms/step\n",
      "1/1 [==============================] - 0s 18ms/step\n",
      "1/1 [==============================] - 0s 17ms/step\n",
      "1/1 [==============================] - 0s 19ms/step\n",
      "1/1 [==============================] - 0s 18ms/step\n",
      "1/1 [==============================] - 0s 18ms/step\n",
      "1/1 [==============================] - 0s 19ms/step\n",
      "1/1 [==============================] - 0s 19ms/step\n",
      "1/1 [==============================] - 0s 21ms/step\n",
      "1/1 [==============================] - 0s 19ms/step\n",
      "1/1 [==============================] - 0s 19ms/step\n",
      "1/1 [==============================] - 0s 17ms/step\n",
      "1/1 [==============================] - 0s 17ms/step\n",
      "1/1 [==============================] - 0s 17ms/step\n",
      "1/1 [==============================] - 0s 19ms/step\n",
      "1/1 [==============================] - 0s 19ms/step\n",
      "1/1 [==============================] - 0s 19ms/step\n",
      "1/1 [==============================] - 0s 18ms/step\n",
      "1/1 [==============================] - 0s 19ms/step\n",
      "1/1 [==============================] - 0s 20ms/step\n",
      "1/1 [==============================] - 0s 20ms/step\n",
      "1/1 [==============================] - 0s 20ms/step\n",
      "1/1 [==============================] - 0s 19ms/step\n",
      "1/1 [==============================] - 0s 17ms/step\n",
      "1/1 [==============================] - 0s 19ms/step\n",
      "1/1 [==============================] - 0s 18ms/step\n",
      "1/1 [==============================] - 0s 18ms/step\n",
      "1/1 [==============================] - 0s 18ms/step\n",
      "1/1 [==============================] - 0s 18ms/step\n",
      "1/1 [==============================] - 0s 17ms/step\n",
      "1/1 [==============================] - 0s 32ms/step\n",
      "1/1 [==============================] - 0s 17ms/step\n",
      "1/1 [==============================] - 0s 19ms/step\n",
      "1/1 [==============================] - 0s 17ms/step\n",
      "1/1 [==============================] - 0s 19ms/step\n",
      "1/1 [==============================] - 0s 17ms/step\n",
      "1/1 [==============================] - 0s 17ms/step\n",
      "1/1 [==============================] - 0s 17ms/step\n",
      "1/1 [==============================] - 0s 18ms/step\n",
      "1/1 [==============================] - 0s 17ms/step\n",
      "1/1 [==============================] - 0s 17ms/step\n",
      "1/1 [==============================] - 0s 19ms/step\n",
      "1/1 [==============================] - 0s 18ms/step\n",
      "1/1 [==============================] - 0s 19ms/step\n",
      "1/1 [==============================] - 0s 18ms/step\n",
      "1/1 [==============================] - 0s 18ms/step\n",
      "1/1 [==============================] - 0s 18ms/step\n",
      "1/1 [==============================] - 0s 20ms/step\n",
      "1/1 [==============================] - 0s 17ms/step\n",
      "1/1 [==============================] - 0s 19ms/step\n",
      "1/1 [==============================] - 0s 19ms/step\n",
      "1/1 [==============================] - 0s 20ms/step\n",
      "1/1 [==============================] - 0s 19ms/step\n",
      "1/1 [==============================] - 0s 20ms/step\n",
      "1/1 [==============================] - 0s 19ms/step\n",
      "1/1 [==============================] - 0s 19ms/step\n",
      "1/1 [==============================] - 0s 20ms/step\n",
      "1/1 [==============================] - 0s 32ms/step\n",
      "1/1 [==============================] - 0s 21ms/step\n",
      "1/1 [==============================] - 0s 35ms/step\n",
      "1/1 [==============================] - 0s 17ms/step\n",
      "1/1 [==============================] - 0s 17ms/step\n",
      "1/1 [==============================] - 0s 20ms/step\n",
      "1/1 [==============================] - 0s 17ms/step\n",
      "1/1 [==============================] - 0s 18ms/step\n",
      "1/1 [==============================] - 0s 19ms/step\n",
      "1/1 [==============================] - 0s 19ms/step\n",
      "1/1 [==============================] - 0s 19ms/step\n",
      "1/1 [==============================] - 0s 20ms/step\n",
      "1/1 [==============================] - 0s 18ms/step\n",
      "1/1 [==============================] - 0s 20ms/step\n",
      "1/1 [==============================] - 0s 21ms/step\n",
      "1/1 [==============================] - 0s 19ms/step\n",
      "100% of the first 100 images in dog_files have a detected dog\n"
     ]
    }
   ],
   "source": [
    "### TODO: Test the performance of the dog_detector function\n",
    "### on the images in human_files_short and dog_files_short.\n",
    "is_human_dog = [dog_detector(img) for img in human_files_short]\n",
    "perc_human_human = 100 * np.mean(is_human_dog)\n",
    "print(\"{:.0f}% of the first 100 images in human_files have a detected dog\"\n",
    "          .format(perc_human_human))\n",
    "\n",
    "is_dog_dog = [dog_detector(img) for img in dog_files_short]\n",
    "perc_dog_human = 100 * np.mean(is_dog_dog)\n",
    "print(\"{:.0f}% of the first 100 images in dog_files have a detected dog\"\n",
    "          .format(perc_dog_human))"
   ]
  },
  {
   "cell_type": "markdown",
   "metadata": {},
   "source": [
    "---\n",
    "<a id='step3'></a>\n",
    "## Step 3: Create a CNN to Classify Dog Breeds (from Scratch)\n",
    "\n",
    "Now that we have functions for detecting humans and dogs in images, we need a way to predict breed from images.  In this step, you will create a CNN that classifies dog breeds.  You must create your CNN _from scratch_ (so, you can't use transfer learning _yet_!), and you must attain a test accuracy of at least 1%.  In Step 5 of this notebook, you will have the opportunity to use transfer learning to create a CNN that attains greatly improved accuracy.\n",
    "\n",
    "Be careful with adding too many trainable layers!  More parameters means longer training, which means you are more likely to need a GPU to accelerate the training process.  Thankfully, Keras provides a handy estimate of the time that each epoch is likely to take; you can extrapolate this estimate to figure out how long it will take for your algorithm to train. \n",
    "\n",
    "We mention that the task of assigning breed to dogs from images is considered exceptionally challenging.  To see why, consider that *even a human* would have great difficulty in distinguishing between a Brittany and a Welsh Springer Spaniel.  \n",
    "\n",
    "Brittany | Welsh Springer Spaniel\n",
    "- | - \n",
    "<img src=\"images/Brittany_02625.jpg\" width=\"100\"> | <img src=\"images/Welsh_springer_spaniel_08203.jpg\" width=\"200\">\n",
    "\n",
    "It is not difficult to find other dog breed pairs with minimal inter-class variation (for instance, Curly-Coated Retrievers and American Water Spaniels).  \n",
    "\n",
    "Curly-Coated Retriever | American Water Spaniel\n",
    "- | -\n",
    "<img src=\"images/Curly-coated_retriever_03896.jpg\" width=\"200\"> | <img src=\"images/American_water_spaniel_00648.jpg\" width=\"200\">\n",
    "\n",
    "\n",
    "Likewise, recall that labradors come in yellow, chocolate, and black.  Your vision-based algorithm will have to conquer this high intra-class variation to determine how to classify all of these different shades as the same breed.  \n",
    "\n",
    "Yellow Labrador | Chocolate Labrador | Black Labrador\n",
    "- | -\n",
    "<img src=\"images/Labrador_retriever_06457.jpg\" width=\"150\"> | <img src=\"images/Labrador_retriever_06455.jpg\" width=\"240\"> | <img src=\"images/Labrador_retriever_06449.jpg\" width=\"220\">\n",
    "\n",
    "We also mention that random chance presents an exceptionally low bar: setting aside the fact that the classes are slightly imabalanced, a random guess will provide a correct answer roughly 1 in 133 times, which corresponds to an accuracy of less than 1%.  \n",
    "\n",
    "Remember that the practice is far ahead of the theory in deep learning.  Experiment with many different architectures, and trust your intuition.  And, of course, have fun! \n",
    "\n",
    "### Pre-process the Data\n",
    "\n",
    "We rescale the images by dividing every pixel in every image by 255."
   ]
  },
  {
   "cell_type": "code",
   "execution_count": 13,
   "metadata": {},
   "outputs": [],
   "source": [
    "from PIL import ImageFile\n",
    "ImageFile.LOAD_TRUNCATED_IMAGES = True  # Allow loading of truncated images\n",
    "\n",
    "def image_generator(files, targets, batch_size):\n",
    "    while True:\n",
    "        batch_paths = np.random.choice(a=files, size=batch_size)\n",
    "        batch_input = paths_to_tensor(batch_paths)\n",
    "        valid_paths = [p for p in batch_paths if path_to_tensor(p) is not None]\n",
    "        batch_indices = [np.where(files == img_path)[0][0] for img_path in valid_paths]\n",
    "        batch_output = np.array([targets[index] for index in batch_indices])\n",
    "\n",
    "        if len(batch_input) > 0:  # Ensure there is data to yield\n",
    "            yield batch_input, batch_output\n",
    "\n",
    "# Create generators for train, validation, and test datasets\n",
    "train_generator = image_generator(train_files, train_targets, batch_size=64)\n",
    "valid_generator = image_generator(valid_files, valid_targets, batch_size=64)\n",
    "test_generator = image_generator(test_files, test_targets, batch_size=64)"
   ]
  },
  {
   "cell_type": "markdown",
   "metadata": {},
   "source": [
    "### (IMPLEMENTATION) Model Architecture\n",
    "\n",
    "Create a CNN to classify dog breed.  At the end of your code cell block, summarize the layers of your model by executing the line:\n",
    "    \n",
    "        model.summary()\n",
    "\n",
    "We have imported some Python modules to get you started, but feel free to import as many modules as you need.  If you end up getting stuck, here's a hint that specifies a model that trains relatively fast on CPU and attains >1% test accuracy in 5 epochs:\n",
    "\n",
    "![Sample CNN](images/sample_cnn.png)\n",
    "           \n",
    "__Question 4:__ Outline the steps you took to get to your final CNN architecture and your reasoning at each step.  If you chose to use the hinted architecture above, describe why you think that CNN architecture should work well for the image classification task.\n",
    "\n",
    "__Answer:__ "
   ]
  },
  {
   "cell_type": "code",
   "execution_count": null,
   "metadata": {
    "collapsed": true
   },
   "outputs": [
    {
     "name": "stdout",
     "output_type": "stream",
     "text": [
      "Model: \"sequential\"\n",
      "_________________________________________________________________\n",
      " Layer (type)                Output Shape              Param #   \n",
      "=================================================================\n",
      " conv2d (Conv2D)             (None, 224, 224, 16)      208       \n",
      "                                                                 \n",
      " max_pooling2d (MaxPooling2D  (None, 112, 112, 16)     0         \n",
      " )                                                               \n",
      "                                                                 \n",
      " conv2d_1 (Conv2D)           (None, 112, 112, 32)      2080      \n",
      "                                                                 \n",
      " max_pooling2d_1 (MaxPooling  (None, 56, 56, 32)       0         \n",
      " 2D)                                                             \n",
      "                                                                 \n",
      " conv2d_2 (Conv2D)           (None, 56, 56, 64)        8256      \n",
      "                                                                 \n",
      " max_pooling2d_2 (MaxPooling  (None, 28, 28, 64)       0         \n",
      " 2D)                                                             \n",
      "                                                                 \n",
      " conv2d_3 (Conv2D)           (None, 28, 28, 128)       32896     \n",
      "                                                                 \n",
      " max_pooling2d_3 (MaxPooling  (None, 14, 14, 128)      0         \n",
      " 2D)                                                             \n",
      "                                                                 \n",
      " global_average_pooling2d (G  (None, 128)              0         \n",
      " lobalAveragePooling2D)                                          \n",
      "                                                                 \n",
      " dense (Dense)               (None, 128)               16512     \n",
      "                                                                 \n",
      " dropout (Dropout)           (None, 128)               0         \n",
      "                                                                 \n",
      " dense_1 (Dense)             (None, 133)               17157     \n",
      "                                                                 \n",
      "=================================================================\n",
      "Total params: 77,109\n",
      "Trainable params: 77,109\n",
      "Non-trainable params: 0\n",
      "_________________________________________________________________\n"
     ]
    }
   ],
   "source": [
    "from keras.layers import Conv2D, MaxPooling2D, GlobalAveragePooling2D\n",
    "from keras.layers import Dropout, Flatten, Dense\n",
    "from keras.models import Sequential\n",
    "\n",
    "model = Sequential()\n",
    "\n",
    "### TODO: Define your architecture.\n",
    "\n",
    "#Add 4 convolutional/max pooling layers with ReLU activation function, starting with 16 filters/channels and doubling at each step\n",
    "model.add(Conv2D(16, (2,2), padding='same', activation='relu'))\n",
    "model.add(MaxPooling2D(pool_size=(2,2)))\n",
    "model.add(Conv2D(32, (2,2), padding='same', activation='relu'))\n",
    "model.add(MaxPooling2D(pool_size=(2,2)))\n",
    "model.add(Conv2D(64, (2,2), padding='same', activation='relu'))\n",
    "model.add(MaxPooling2D(pool_size=(2,2)))\n",
    "model.add(Conv2D(128, (2,2), padding='same', activation='relu'))\n",
    "model.add(MaxPooling2D(pool_size=(2,2)))\n",
    "\n",
    "#Use global average pooling for dense NN layer\n",
    "model.add(GlobalAveragePooling2D())\n",
    "model.add(Dense(128, activation='relu'))\n",
    "\n",
    "#Apply dropout to avoid overfitting before final output layer with softmax activation for classification\n",
    "model.add(Dropout(rate=0.2))\n",
    "model.add(Dense(133, activation='softmax'))\n",
    "\n",
    "model.build(input_shape=(None, 224, 224, 3))\n",
    "model.summary()"
   ]
  },
  {
   "cell_type": "markdown",
   "metadata": {},
   "source": [
    "### Compile the Model"
   ]
  },
  {
   "cell_type": "code",
   "execution_count": null,
   "metadata": {
    "collapsed": true
   },
   "outputs": [
    {
     "name": "stderr",
     "output_type": "stream",
     "text": [
      "c:\\Users\\jimal\\Anaconda3\\envs\\udacity-dog\\lib\\site-packages\\keras\\optimizers\\optimizer_v2\\adam.py:114: UserWarning: The `lr` argument is deprecated, use `learning_rate` instead.\n",
      "  super().__init__(name, **kwargs)\n"
     ]
    }
   ],
   "source": [
    "from keras.optimizers import Adam\n",
    "\n",
    "# Set a smaller learning rate\n",
    "adam = Adam(lr=0.001)\n",
    "model.compile(optimizer=adam, loss='categorical_crossentropy', metrics=['accuracy'])"
   ]
  },
  {
   "cell_type": "markdown",
   "metadata": {},
   "source": [
    "### (IMPLEMENTATION) Train the Model\n",
    "\n",
    "Train your model in the code cell below.  Use model checkpointing to save the model that attains the best validation loss.\n",
    "\n",
    "You are welcome to [augment the training data](https://blog.keras.io/building-powerful-image-classification-models-using-very-little-data.html), but this is not a requirement. "
   ]
  },
  {
   "cell_type": "code",
   "execution_count": null,
   "metadata": {
    "collapsed": true
   },
   "outputs": [
    {
     "name": "stderr",
     "output_type": "stream",
     "text": [
      "C:\\Users\\jimal\\AppData\\Local\\Temp\\ipykernel_12960\\161290745.py:17: UserWarning: `Model.fit_generator` is deprecated and will be removed in a future version. Please use `Model.fit`, which supports generators.\n",
      "  model.fit_generator(train_generator,\n"
     ]
    },
    {
     "name": "stdout",
     "output_type": "stream",
     "text": [
      "Epoch 1/10\n",
      "\n",
      "Epoch 1: val_loss improved from inf to 4.86381, saving model to saved_models\\weights.best.from_scratch.hdf5\n",
      "208/208 - 125s - loss: 5.5025 - accuracy: 0.0104 - val_loss: 4.8638 - val_accuracy: 0.0102 - lr: 0.0010 - 125s/epoch - 603ms/step\n",
      "Epoch 2/10\n",
      "\n",
      "Epoch 2: val_loss improved from 4.86381 to 4.79667, saving model to saved_models\\weights.best.from_scratch.hdf5\n",
      "208/208 - 127s - loss: 4.8236 - accuracy: 0.0159 - val_loss: 4.7967 - val_accuracy: 0.0198 - lr: 0.0010 - 127s/epoch - 609ms/step\n",
      "Epoch 3/10\n",
      "\n",
      "Epoch 3: val_loss improved from 4.79667 to 4.65860, saving model to saved_models\\weights.best.from_scratch.hdf5\n",
      "208/208 - 129s - loss: 4.7207 - accuracy: 0.0231 - val_loss: 4.6586 - val_accuracy: 0.0325 - lr: 0.0010 - 129s/epoch - 621ms/step\n",
      "Epoch 4/10\n",
      "\n",
      "Epoch 4: val_loss improved from 4.65860 to 4.54194, saving model to saved_models\\weights.best.from_scratch.hdf5\n",
      "208/208 - 131s - loss: 4.6115 - accuracy: 0.0283 - val_loss: 4.5419 - val_accuracy: 0.0331 - lr: 0.0010 - 131s/epoch - 628ms/step\n",
      "Epoch 5/10\n",
      "\n",
      "Epoch 5: val_loss improved from 4.54194 to 4.49621, saving model to saved_models\\weights.best.from_scratch.hdf5\n",
      "208/208 - 127s - loss: 4.5070 - accuracy: 0.0342 - val_loss: 4.4962 - val_accuracy: 0.0481 - lr: 0.0010 - 127s/epoch - 611ms/step\n",
      "Epoch 6/10\n",
      "\n",
      "Epoch 6: val_loss improved from 4.49621 to 4.39880, saving model to saved_models\\weights.best.from_scratch.hdf5\n",
      "208/208 - 125s - loss: 4.3728 - accuracy: 0.0406 - val_loss: 4.3988 - val_accuracy: 0.0601 - lr: 0.0010 - 125s/epoch - 602ms/step\n",
      "Epoch 7/10\n",
      "\n",
      "Epoch 7: val_loss improved from 4.39880 to 4.30555, saving model to saved_models\\weights.best.from_scratch.hdf5\n",
      "208/208 - 125s - loss: 4.2695 - accuracy: 0.0583 - val_loss: 4.3055 - val_accuracy: 0.0481 - lr: 0.0010 - 125s/epoch - 600ms/step\n",
      "Epoch 8/10\n",
      "\n",
      "Epoch 8: val_loss improved from 4.30555 to 4.24907, saving model to saved_models\\weights.best.from_scratch.hdf5\n",
      "208/208 - 129s - loss: 4.1688 - accuracy: 0.0639 - val_loss: 4.2491 - val_accuracy: 0.0571 - lr: 0.0010 - 129s/epoch - 619ms/step\n",
      "Epoch 9/10\n",
      "\n",
      "Epoch 9: val_loss improved from 4.24907 to 4.19123, saving model to saved_models\\weights.best.from_scratch.hdf5\n",
      "208/208 - 123s - loss: 4.1021 - accuracy: 0.0734 - val_loss: 4.1912 - val_accuracy: 0.0637 - lr: 0.0010 - 123s/epoch - 593ms/step\n",
      "Epoch 10/10\n",
      "\n",
      "Epoch 10: val_loss improved from 4.19123 to 4.09407, saving model to saved_models\\weights.best.from_scratch.hdf5\n",
      "208/208 - 130s - loss: 4.0004 - accuracy: 0.0825 - val_loss: 4.0941 - val_accuracy: 0.0823 - lr: 0.0010 - 130s/epoch - 624ms/step\n"
     ]
    },
    {
     "data": {
      "text/plain": [
       "<keras.callbacks.History at 0x1e39b08c700>"
      ]
     },
     "execution_count": 15,
     "metadata": {},
     "output_type": "execute_result"
    }
   ],
   "source": [
    "from keras.callbacks import ModelCheckpoint, ReduceLROnPlateau  \n",
    "\n",
    "### TODO: specify the number of epochs that you would like to use to train the model.\n",
    "\n",
    "epochs = 10\n",
    "\n",
    "### Do NOT modify the code below this line.\n",
    "\n",
    "# Add checkpoint to save the best model\n",
    "checkpointer = ModelCheckpoint(filepath='saved_models/weights.best.from_scratch.hdf5',\n",
    "                               verbose=1, save_best_only=True)\n",
    "\n",
    "# ReduceLROnPlateau: This callback reduces the learning rate when a metric has stopped improving.\n",
    "reduce_lr = ReduceLROnPlateau(monitor='val_loss', factor=0.1, patience=5)\n",
    "\n",
    "# Train the model\n",
    "model.fit_generator(train_generator,\n",
    "                    steps_per_epoch=len(train_files) // 32,\n",
    "                    validation_data=valid_generator,\n",
    "                    validation_steps=len(valid_files) // 32,\n",
    "                    epochs=epochs,\n",
    "                    callbacks=[checkpointer, reduce_lr],\n",
    "                    verbose=2)"
   ]
  },
  {
   "cell_type": "markdown",
   "metadata": {},
   "source": [
    "### Load the Model with the Best Validation Loss"
   ]
  },
  {
   "cell_type": "code",
   "execution_count": null,
   "metadata": {
    "collapsed": true
   },
   "outputs": [],
   "source": [
    "model.load_weights('saved_models/weights.best.from_scratch.hdf5')"
   ]
  },
  {
   "cell_type": "markdown",
   "metadata": {},
   "source": [
    "### Test the Model\n",
    "\n",
    "Try out your model on the test dataset of dog images.  Ensure that your test accuracy is greater than 1%."
   ]
  },
  {
   "cell_type": "code",
   "execution_count": 17,
   "metadata": {
    "collapsed": true
   },
   "outputs": [
    {
     "name": "stderr",
     "output_type": "stream",
     "text": [
      "C:\\Users\\jimal\\AppData\\Local\\Temp\\ipykernel_12960\\4135055876.py:2: UserWarning: `Model.evaluate_generator` is deprecated and will be removed in a future version. Please use `Model.evaluate`, which supports generators.\n",
      "  test_loss, test_accuracy = model.evaluate_generator(test_generator, steps=len(test_files) // 32)\n"
     ]
    },
    {
     "name": "stdout",
     "output_type": "stream",
     "text": [
      "Test accuracy: 8.1130%\n"
     ]
    }
   ],
   "source": [
    "# Evaluate the model on the test data using `evaluate_generator`\n",
    "test_loss, test_accuracy = model.evaluate_generator(test_generator, steps=len(test_files) // 32)\n",
    "\n",
    "# Convert the accuracy to percentage\n",
    "test_accuracy = test_accuracy * 100\n",
    "\n",
    "print('Test accuracy: %.4f%%' % test_accuracy)"
   ]
  },
  {
   "cell_type": "markdown",
   "metadata": {},
   "source": [
    "---\n",
    "<a id='step4'></a>\n",
    "## Step 4: Use a CNN to Classify Dog Breeds\n",
    "\n",
    "To reduce training time without sacrificing accuracy, we show you how to train a CNN using transfer learning.  In the following step, you will get a chance to use transfer learning to train your own CNN.\n",
    "\n",
    "### Obtain Bottleneck Features"
   ]
  },
  {
   "cell_type": "code",
   "execution_count": 14,
   "metadata": {
    "collapsed": true
   },
   "outputs": [],
   "source": [
    "bottleneck_features = np.load('bottleneck_features/DogVGG16Data.npz')\n",
    "train_VGG16 = bottleneck_features['train']\n",
    "valid_VGG16 = bottleneck_features['valid']\n",
    "test_VGG16 = bottleneck_features['test']"
   ]
  },
  {
   "cell_type": "markdown",
   "metadata": {},
   "source": [
    "### Model Architecture\n",
    "\n",
    "The model uses the the pre-trained VGG-16 model as a fixed feature extractor, where the last convolutional output of VGG-16 is fed as input to our model.  We only add a global average pooling layer and a fully connected layer, where the latter contains one node for each dog category and is equipped with a softmax."
   ]
  },
  {
   "cell_type": "code",
   "execution_count": 15,
   "metadata": {
    "collapsed": true
   },
   "outputs": [
    {
     "name": "stdout",
     "output_type": "stream",
     "text": [
      "Model: \"sequential\"\n",
      "_________________________________________________________________\n",
      " Layer (type)                Output Shape              Param #   \n",
      "=================================================================\n",
      " global_average_pooling2d (G  (None, 512)              0         \n",
      " lobalAveragePooling2D)                                          \n",
      "                                                                 \n",
      " dense (Dense)               (None, 133)               68229     \n",
      "                                                                 \n",
      "=================================================================\n",
      "Total params: 68,229\n",
      "Trainable params: 68,229\n",
      "Non-trainable params: 0\n",
      "_________________________________________________________________\n"
     ]
    }
   ],
   "source": [
    "from keras.layers import Conv2D, MaxPooling2D, GlobalAveragePooling2D\n",
    "from keras.layers import Dropout, Flatten, Dense\n",
    "from keras.models import Sequential\n",
    "\n",
    "VGG16_model = Sequential()\n",
    "VGG16_model.add(GlobalAveragePooling2D(input_shape=train_VGG16.shape[1:]))\n",
    "VGG16_model.add(Dense(133, activation='softmax'))\n",
    "\n",
    "VGG16_model.summary()"
   ]
  },
  {
   "cell_type": "markdown",
   "metadata": {},
   "source": [
    "### Compile the Model"
   ]
  },
  {
   "cell_type": "code",
   "execution_count": 16,
   "metadata": {
    "collapsed": true
   },
   "outputs": [],
   "source": [
    "VGG16_model.compile(loss='categorical_crossentropy', optimizer='rmsprop', metrics=['accuracy'])"
   ]
  },
  {
   "cell_type": "markdown",
   "metadata": {},
   "source": [
    "### Train the Model"
   ]
  },
  {
   "cell_type": "code",
   "execution_count": 17,
   "metadata": {
    "collapsed": true
   },
   "outputs": [
    {
     "name": "stdout",
     "output_type": "stream",
     "text": [
      "Epoch 1/20\n",
      "327/334 [============================>.] - ETA: 0s - loss: 8.0770 - accuracy: 0.2217\n",
      "Epoch 1: val_loss improved from inf to 3.63952, saving model to saved_models\\weights.best.VGG16.hdf5\n",
      "334/334 [==============================] - 1s 2ms/step - loss: 7.9714 - accuracy: 0.2265 - val_loss: 3.6395 - val_accuracy: 0.4311\n",
      "Epoch 2/20\n",
      "324/334 [============================>.] - ETA: 0s - loss: 2.1910 - accuracy: 0.6006\n",
      "Epoch 2: val_loss improved from 3.63952 to 2.39080, saving model to saved_models\\weights.best.VGG16.hdf5\n",
      "334/334 [==============================] - 1s 2ms/step - loss: 2.1988 - accuracy: 0.6006 - val_loss: 2.3908 - val_accuracy: 0.5928\n",
      "Epoch 3/20\n",
      "317/334 [===========================>..] - ETA: 0s - loss: 1.2643 - accuracy: 0.7394\n",
      "Epoch 3: val_loss improved from 2.39080 to 2.00781, saving model to saved_models\\weights.best.VGG16.hdf5\n",
      "334/334 [==============================] - 1s 2ms/step - loss: 1.2576 - accuracy: 0.7400 - val_loss: 2.0078 - val_accuracy: 0.6563\n",
      "Epoch 4/20\n",
      "332/334 [============================>.] - ETA: 0s - loss: 0.8259 - accuracy: 0.8096\n",
      "Epoch 4: val_loss improved from 2.00781 to 1.84163, saving model to saved_models\\weights.best.VGG16.hdf5\n",
      "334/334 [==============================] - 1s 2ms/step - loss: 0.8299 - accuracy: 0.8093 - val_loss: 1.8416 - val_accuracy: 0.6790\n",
      "Epoch 5/20\n",
      "310/334 [==========================>...] - ETA: 0s - loss: 0.5979 - accuracy: 0.8563\n",
      "Epoch 5: val_loss improved from 1.84163 to 1.77196, saving model to saved_models\\weights.best.VGG16.hdf5\n",
      "334/334 [==============================] - 1s 2ms/step - loss: 0.5900 - accuracy: 0.8573 - val_loss: 1.7720 - val_accuracy: 0.7090\n",
      "Epoch 6/20\n",
      "320/334 [===========================>..] - ETA: 0s - loss: 0.4184 - accuracy: 0.8936\n",
      "Epoch 6: val_loss did not improve from 1.77196\n",
      "334/334 [==============================] - 1s 2ms/step - loss: 0.4135 - accuracy: 0.8952 - val_loss: 1.8267 - val_accuracy: 0.6982\n",
      "Epoch 7/20\n",
      "329/334 [============================>.] - ETA: 0s - loss: 0.3196 - accuracy: 0.9161\n",
      "Epoch 7: val_loss improved from 1.77196 to 1.68620, saving model to saved_models\\weights.best.VGG16.hdf5\n",
      "334/334 [==============================] - 1s 2ms/step - loss: 0.3158 - accuracy: 0.9172 - val_loss: 1.6862 - val_accuracy: 0.7186\n",
      "Epoch 8/20\n",
      "316/334 [===========================>..] - ETA: 0s - loss: 0.2349 - accuracy: 0.9337\n",
      "Epoch 8: val_loss did not improve from 1.68620\n",
      "334/334 [==============================] - 1s 2ms/step - loss: 0.2346 - accuracy: 0.9335 - val_loss: 1.7010 - val_accuracy: 0.7198\n",
      "Epoch 9/20\n",
      "312/334 [===========================>..] - ETA: 0s - loss: 0.1721 - accuracy: 0.9526\n",
      "Epoch 9: val_loss did not improve from 1.68620\n",
      "334/334 [==============================] - 1s 2ms/step - loss: 0.1738 - accuracy: 0.9519 - val_loss: 1.8324 - val_accuracy: 0.7365\n",
      "Epoch 10/20\n",
      "305/334 [==========================>...] - ETA: 0s - loss: 0.1346 - accuracy: 0.9620\n",
      "Epoch 10: val_loss did not improve from 1.68620\n",
      "334/334 [==============================] - 1s 2ms/step - loss: 0.1389 - accuracy: 0.9618 - val_loss: 1.8035 - val_accuracy: 0.7138\n",
      "Epoch 11/20\n",
      "333/334 [============================>.] - ETA: 0s - loss: 0.1033 - accuracy: 0.9692\n",
      "Epoch 11: val_loss did not improve from 1.68620\n",
      "334/334 [==============================] - 1s 2ms/step - loss: 0.1030 - accuracy: 0.9693 - val_loss: 1.7442 - val_accuracy: 0.7389\n",
      "Epoch 12/20\n",
      "307/334 [==========================>...] - ETA: 0s - loss: 0.0842 - accuracy: 0.9775\n",
      "Epoch 12: val_loss did not improve from 1.68620\n",
      "334/334 [==============================] - 1s 2ms/step - loss: 0.0866 - accuracy: 0.9765 - val_loss: 1.8489 - val_accuracy: 0.7437\n",
      "Epoch 13/20\n",
      "331/334 [============================>.] - ETA: 0s - loss: 0.0706 - accuracy: 0.9781\n",
      "Epoch 13: val_loss did not improve from 1.68620\n",
      "334/334 [==============================] - 1s 2ms/step - loss: 0.0705 - accuracy: 0.9778 - val_loss: 1.8457 - val_accuracy: 0.7365\n",
      "Epoch 14/20\n",
      "312/334 [===========================>..] - ETA: 0s - loss: 0.0529 - accuracy: 0.9857\n",
      "Epoch 14: val_loss did not improve from 1.68620\n",
      "334/334 [==============================] - 1s 2ms/step - loss: 0.0536 - accuracy: 0.9853 - val_loss: 1.8848 - val_accuracy: 0.7437\n",
      "Epoch 15/20\n",
      "322/334 [===========================>..] - ETA: 0s - loss: 0.0414 - accuracy: 0.9871\n",
      "Epoch 15: val_loss did not improve from 1.68620\n",
      "334/334 [==============================] - 1s 2ms/step - loss: 0.0471 - accuracy: 0.9864 - val_loss: 2.0370 - val_accuracy: 0.7389\n",
      "Epoch 16/20\n",
      "328/334 [============================>.] - ETA: 0s - loss: 0.0431 - accuracy: 0.9869\n",
      "Epoch 16: val_loss did not improve from 1.68620\n",
      "334/334 [==============================] - 1s 2ms/step - loss: 0.0433 - accuracy: 0.9870 - val_loss: 1.9695 - val_accuracy: 0.7389\n",
      "Epoch 17/20\n",
      "322/334 [===========================>..] - ETA: 0s - loss: 0.0334 - accuracy: 0.9915\n",
      "Epoch 17: val_loss did not improve from 1.68620\n",
      "334/334 [==============================] - 1s 2ms/step - loss: 0.0334 - accuracy: 0.9913 - val_loss: 1.9803 - val_accuracy: 0.7509\n",
      "Epoch 18/20\n",
      "318/334 [===========================>..] - ETA: 0s - loss: 0.0277 - accuracy: 0.9914\n",
      "Epoch 18: val_loss did not improve from 1.68620\n",
      "334/334 [==============================] - 1s 2ms/step - loss: 0.0275 - accuracy: 0.9913 - val_loss: 2.0435 - val_accuracy: 0.7461\n",
      "Epoch 19/20\n",
      "311/334 [==========================>...] - ETA: 0s - loss: 0.0194 - accuracy: 0.9939\n",
      "Epoch 19: val_loss did not improve from 1.68620\n",
      "334/334 [==============================] - 1s 2ms/step - loss: 0.0197 - accuracy: 0.9939 - val_loss: 1.9979 - val_accuracy: 0.7449\n",
      "Epoch 20/20\n",
      "317/334 [===========================>..] - ETA: 0s - loss: 0.0219 - accuracy: 0.9924\n",
      "Epoch 20: val_loss did not improve from 1.68620\n",
      "334/334 [==============================] - 1s 2ms/step - loss: 0.0211 - accuracy: 0.9928 - val_loss: 2.1353 - val_accuracy: 0.7569\n"
     ]
    }
   ],
   "source": [
    "from keras.callbacks import ModelCheckpoint\n",
    "checkpointer = ModelCheckpoint(filepath='saved_models/weights.best.VGG16.hdf5', \n",
    "                               verbose=1, save_best_only=True)\n",
    "\n",
    "history = VGG16_model.fit(train_VGG16, train_targets, \n",
    "          validation_data=(valid_VGG16, valid_targets),\n",
    "          epochs=20, batch_size=20, callbacks=[checkpointer], verbose=1)"
   ]
  },
  {
   "cell_type": "code",
   "execution_count": 46,
   "metadata": {},
   "outputs": [
    {
     "data": {
      "text/plain": [
       "[<matplotlib.lines.Line2D at 0x25e4a7f1520>]"
      ]
     },
     "execution_count": 46,
     "metadata": {},
     "output_type": "execute_result"
    },
    {
     "data": {
      "image/png": "[encoded data removed]",
      "text/plain": [
       "<Figure size 640x480 with 1 Axes>"
      ]
     },
     "metadata": {},
     "output_type": "display_data"
    }
   ],
   "source": [
    "import matplotlib.pyplot as plt\n",
    "#View loss/accuracy training history\n",
    "loss = history.history['loss']\n",
    "accuracy = history.history['accuracy']\n",
    "plt.title('VGG16 Transfer Learning loss during training')\n",
    "plt.xlabel('Epoch')\n",
    "plt.xticks(range(len(loss)))\n",
    "plt.plot(loss)"
   ]
  },
  {
   "cell_type": "code",
   "execution_count": 48,
   "metadata": {},
   "outputs": [
    {
     "data": {
      "text/plain": [
       "[<matplotlib.lines.Line2D at 0x25d30eeb340>]"
      ]
     },
     "execution_count": 48,
     "metadata": {},
     "output_type": "execute_result"
    },
    {
     "data": {
      "image/png": "[encoded data removed]",
      "text/plain": [
       "<Figure size 640x480 with 1 Axes>"
      ]
     },
     "metadata": {},
     "output_type": "display_data"
    }
   ],
   "source": [
    "plt.title('VGG16 Transfer Learning accuracy during training')\n",
    "plt.xlabel('Epoch')\n",
    "plt.xticks(range(len(accuracy)))\n",
    "plt.plot(accuracy)"
   ]
  },
  {
   "cell_type": "markdown",
   "metadata": {},
   "source": [
    "### Load the Model with the Best Validation Loss"
   ]
  },
  {
   "cell_type": "code",
   "execution_count": 38,
   "metadata": {
    "collapsed": true
   },
   "outputs": [],
   "source": [
    "VGG16_model.load_weights('saved_models/weights.best.VGG16.hdf5')"
   ]
  },
  {
   "cell_type": "markdown",
   "metadata": {},
   "source": [
    "### Test the Model\n",
    "\n",
    "Now, we can use the CNN to test how well it identifies breed within our test dataset of dog images.  We print the test accuracy below."
   ]
  },
  {
   "cell_type": "code",
   "execution_count": 39,
   "metadata": {
    "collapsed": true
   },
   "outputs": [
    {
     "name": "stdout",
     "output_type": "stream",
     "text": [
      "42/42 [==============================] - 0s 4ms/step\n",
      "Test accuracy: 70.5742%\n"
     ]
    }
   ],
   "source": [
    "# Test the model\n",
    "test_predictions = VGG16_model.predict(test_VGG16, batch_size=20)\n",
    "test_accuracy = 100 * np.mean(np.argmax(test_predictions, axis=1) == np.argmax(test_targets, axis=1))\n",
    "print('Test accuracy: %.4f%%' % test_accuracy)"
   ]
  },
  {
   "cell_type": "code",
   "execution_count": 40,
   "metadata": {},
   "outputs": [
    {
     "name": "stdout",
     "output_type": "stream",
     "text": [
      "42/42 [==============================] - 0s 4ms/step - loss: 1.9617 - accuracy: 0.7057\n"
     ]
    },
    {
     "data": {
      "text/plain": [
       "[1.9617173671722412, 0.7057416439056396]"
      ]
     },
     "execution_count": 40,
     "metadata": {},
     "output_type": "execute_result"
    }
   ],
   "source": [
    "VGG16_model.evaluate(test_VGG16, test_targets, batch_size=20)"
   ]
  },
  {
   "cell_type": "markdown",
   "metadata": {},
   "source": [
    "### Predict Dog Breed with the Model"
   ]
  },
  {
   "cell_type": "code",
   "execution_count": 41,
   "metadata": {
    "collapsed": true
   },
   "outputs": [],
   "source": [
    "from extract_bottleneck_features import *\n",
    "\n",
    "def VGG16_predict_breed(img_path):\n",
    "    # extract bottleneck features\n",
    "    bottleneck_feature = extract_VGG16(path_to_tensor(img_path))\n",
    "    # obtain predicted vector\n",
    "    predicted_vector = VGG16_model.predict(bottleneck_feature)\n",
    "    # return dog breed that is predicted by the model\n",
    "    return dog_names[np.argmax(predicted_vector)]"
   ]
  },
  {
   "cell_type": "markdown",
   "metadata": {},
   "source": [
    "---\n",
    "<a id='step5'></a>\n",
    "## Step 5: Create a CNN to Classify Dog Breeds (using Transfer Learning)\n",
    "\n",
    "You will now use transfer learning to create a CNN that can identify dog breed from images.  Your CNN must attain at least 60% accuracy on the test set.\n",
    "\n",
    "In Step 4, we used transfer learning to create a CNN using VGG-16 bottleneck features.  In this section, you must use the bottleneck features from a different pre-trained model.  To make things easier for you, we have pre-computed the features for all of the networks that are currently available in Keras:\n",
    "- [VGG-19](https://s3-us-west-1.amazonaws.com/udacity-aind/dog-project/DogVGG19Data.npz) bottleneck features\n",
    "- [ResNet-50](https://s3-us-west-1.amazonaws.com/udacity-aind/dog-project/DogResnet50Data.npz) bottleneck features\n",
    "- [Inception](https://s3-us-west-1.amazonaws.com/udacity-aind/dog-project/DogInceptionV3Data.npz) bottleneck features\n",
    "- [Xception](https://s3-us-west-1.amazonaws.com/udacity-aind/dog-project/DogXceptionData.npz) bottleneck features\n",
    "\n",
    "The files are encoded as such:\n",
    "\n",
    "    Dog{network}Data.npz\n",
    "    \n",
    "where `{network}`, in the above filename, can be one of `VGG19`, `Resnet50`, `InceptionV3`, or `Xception`.  Pick one of the above architectures, download the corresponding bottleneck features, and store the downloaded file in the `bottleneck_features/` folder in the repository.\n",
    "\n",
    "### (IMPLEMENTATION) Obtain Bottleneck Features\n",
    "\n",
    "In the code block below, extract the bottleneck features corresponding to the train, test, and validation sets by running the following:\n",
    "\n",
    "    bottleneck_features = np.load('bottleneck_features/Dog{network}Data.npz')\n",
    "    train_{network} = bottleneck_features['train']\n",
    "    valid_{network} = bottleneck_features['valid']\n",
    "    test_{network} = bottleneck_features['test']"
   ]
  },
  {
   "cell_type": "code",
   "execution_count": 14,
   "metadata": {
    "collapsed": true
   },
   "outputs": [],
   "source": [
    "### TODO: Obtain bottleneck features from another pre-trained CNN.\n",
    "#NOTE: Shape of Resnet50 bottleneck features train does not work with the Resnet50 in this currently installed TensorFlow version\n",
    "transfer_learning = {}\n",
    "for network in ['VGG16', 'VGG19', 'InceptionV3', 'Xception']:\n",
    "    transfer_learning[network] = {}\n",
    "    transfer_learning[network]['bottleneck_features'] = np.load(f'bottleneck_features/Dog{network}Data.npz')"
   ]
  },
  {
   "cell_type": "markdown",
   "metadata": {},
   "source": [
    "### (IMPLEMENTATION) Model Architecture\n",
    "\n",
    "Create a CNN to classify dog breed.  At the end of your code cell block, summarize the layers of your model by executing the line:\n",
    "    \n",
    "        <your model's name>.summary()\n",
    "   \n",
    "__Question 5:__ Outline the steps you took to get to your final CNN architecture and your reasoning at each step.  Describe why you think the architecture is suitable for the current problem.\n",
    "\n",
    "__Answer:__ \n",
    "\n"
   ]
  },
  {
   "cell_type": "code",
   "execution_count": 15,
   "metadata": {
    "collapsed": true
   },
   "outputs": [
    {
     "name": "stdout",
     "output_type": "stream",
     "text": [
      "Model: \"sequential\"\n",
      "_________________________________________________________________\n",
      " Layer (type)                Output Shape              Param #   \n",
      "=================================================================\n",
      " global_average_pooling2d (G  (None, 512)              0         \n",
      " lobalAveragePooling2D)                                          \n",
      "                                                                 \n",
      " dropout (Dropout)           (None, 512)               0         \n",
      "                                                                 \n",
      " dense (Dense)               (None, 133)               68229     \n",
      "                                                                 \n",
      "=================================================================\n",
      "Total params: 68,229\n",
      "Trainable params: 68,229\n",
      "Non-trainable params: 0\n",
      "_________________________________________________________________\n",
      "Model: \"sequential_1\"\n",
      "_________________________________________________________________\n",
      " Layer (type)                Output Shape              Param #   \n",
      "=================================================================\n",
      " global_average_pooling2d_1   (None, 512)              0         \n",
      " (GlobalAveragePooling2D)                                        \n",
      "                                                                 \n",
      " dropout_1 (Dropout)         (None, 512)               0         \n",
      "                                                                 \n",
      " dense_1 (Dense)             (None, 133)               68229     \n",
      "                                                                 \n",
      "=================================================================\n",
      "Total params: 68,229\n",
      "Trainable params: 68,229\n",
      "Non-trainable params: 0\n",
      "_________________________________________________________________\n",
      "Model: \"sequential_2\"\n",
      "_________________________________________________________________\n",
      " Layer (type)                Output Shape              Param #   \n",
      "=================================================================\n",
      " global_average_pooling2d_2   (None, 2048)             0         \n",
      " (GlobalAveragePooling2D)                                        \n",
      "                                                                 \n",
      " dropout_2 (Dropout)         (None, 2048)              0         \n",
      "                                                                 \n",
      " dense_2 (Dense)             (None, 500)               1024500   \n",
      "                                                                 \n",
      " dropout_3 (Dropout)         (None, 500)               0         \n",
      "                                                                 \n",
      " dense_3 (Dense)             (None, 133)               66633     \n",
      "                                                                 \n",
      "=================================================================\n",
      "Total params: 1,091,133\n",
      "Trainable params: 1,091,133\n",
      "Non-trainable params: 0\n",
      "_________________________________________________________________\n",
      "Model: \"sequential_3\"\n",
      "_________________________________________________________________\n",
      " Layer (type)                Output Shape              Param #   \n",
      "=================================================================\n",
      " global_average_pooling2d_3   (None, 2048)             0         \n",
      " (GlobalAveragePooling2D)                                        \n",
      "                                                                 \n",
      " dropout_4 (Dropout)         (None, 2048)              0         \n",
      "                                                                 \n",
      " dense_4 (Dense)             (None, 500)               1024500   \n",
      "                                                                 \n",
      " dropout_5 (Dropout)         (None, 500)               0         \n",
      "                                                                 \n",
      " dense_5 (Dense)             (None, 133)               66633     \n",
      "                                                                 \n",
      "=================================================================\n",
      "Total params: 1,091,133\n",
      "Trainable params: 1,091,133\n",
      "Non-trainable params: 0\n",
      "_________________________________________________________________\n"
     ]
    }
   ],
   "source": [
    "from keras.layers import Conv2D, MaxPooling2D, GlobalAveragePooling2D\n",
    "from keras.layers import Dropout, Flatten, Dense\n",
    "from keras.models import Sequential\n",
    "\n",
    "### TODO: Define your architecture.\n",
    "for network in transfer_learning:\n",
    "    model = Sequential()\n",
    "    #Add global average pooling to pre-trained model output to shape features for dense NN layer\n",
    "    model.add(GlobalAveragePooling2D(input_shape=transfer_learning[network]['bottleneck_features']['train'].shape[1:]))\n",
    "    #Apply dropout to reduce model overfitting\n",
    "    model.add(Dropout(rate=0.1))\n",
    "    #If network ouput size > 512, add additional dense layer of size 500 with relu activation\n",
    "    #additional layer may help gradually settle network output towards final 133 classes\n",
    "    if transfer_learning[network]['bottleneck_features']['train'].shape[3] > 512:\n",
    "        model.add(Dense(500, activation='relu'))\n",
    "        model.add(Dropout(rate=0.1)) #apply additional dropout before final output layer\n",
    "    #Add final output layer with softmax activation for classification\n",
    "    model.add(Dense(133, activation='softmax'))\n",
    "    transfer_learning[network]['model'] = model\n",
    "    model.summary()"
   ]
  },
  {
   "cell_type": "markdown",
   "metadata": {},
   "source": [
    "### (IMPLEMENTATION) Compile the Model"
   ]
  },
  {
   "cell_type": "code",
   "execution_count": 16,
   "metadata": {
    "collapsed": true
   },
   "outputs": [],
   "source": [
    "### TODO: Compile the model.\n",
    "for network in transfer_learning:\n",
    "    transfer_learning[network]['model'].compile(loss='categorical_crossentropy', optimizer='rmsprop', metrics=['accuracy'])"
   ]
  },
  {
   "cell_type": "markdown",
   "metadata": {},
   "source": [
    "### (IMPLEMENTATION) Train the Model\n",
    "\n",
    "Train your model in the code cell below.  Use model checkpointing to save the model that attains the best validation loss.  \n",
    "\n",
    "You are welcome to [augment the training data](https://blog.keras.io/building-powerful-image-classification-models-using-very-little-data.html), but this is not a requirement. "
   ]
  },
  {
   "cell_type": "code",
   "execution_count": 19,
   "metadata": {
    "collapsed": true
   },
   "outputs": [
    {
     "name": "stdout",
     "output_type": "stream",
     "text": [
      "Xception\n",
      "Epoch 1/20\n",
      "321/334 [===========================>..] - ETA: 0s - loss: 1.2208 - accuracy: 0.6919\n",
      "Epoch 1: val_loss improved from inf to 0.73133, saving model to saved_models\\weights.best.Xception.hdf5\n",
      "334/334 [==============================] - 2s 5ms/step - loss: 1.2039 - accuracy: 0.6943 - val_loss: 0.7313 - val_accuracy: 0.7904\n",
      "Epoch 2/20\n",
      "334/334 [==============================] - ETA: 0s - loss: 0.5158 - accuracy: 0.8392\n",
      "Epoch 2: val_loss improved from 0.73133 to 0.59570, saving model to saved_models\\weights.best.Xception.hdf5\n",
      "334/334 [==============================] - 1s 4ms/step - loss: 0.5158 - accuracy: 0.8392 - val_loss: 0.5957 - val_accuracy: 0.8036\n",
      "Epoch 3/20\n",
      "330/334 [============================>.] - ETA: 0s - loss: 0.3926 - accuracy: 0.8756\n",
      "Epoch 3: val_loss did not improve from 0.59570\n",
      "334/334 [==============================] - 1s 4ms/step - loss: 0.3902 - accuracy: 0.8763 - val_loss: 0.7007 - val_accuracy: 0.8012\n",
      "Epoch 4/20\n",
      "320/334 [===========================>..] - ETA: 0s - loss: 0.3017 - accuracy: 0.9019\n",
      "Epoch 4: val_loss did not improve from 0.59570\n",
      "334/334 [==============================] - 1s 4ms/step - loss: 0.3023 - accuracy: 0.9012 - val_loss: 0.6735 - val_accuracy: 0.8275\n",
      "Epoch 5/20\n",
      "319/334 [===========================>..] - ETA: 0s - loss: 0.2475 - accuracy: 0.9202\n",
      "Epoch 5: val_loss did not improve from 0.59570\n",
      "334/334 [==============================] - 1s 4ms/step - loss: 0.2459 - accuracy: 0.9205 - val_loss: 0.7383 - val_accuracy: 0.8359\n",
      "Epoch 6/20\n",
      "330/334 [============================>.] - ETA: 0s - loss: 0.1999 - accuracy: 0.9341\n",
      "Epoch 6: val_loss did not improve from 0.59570\n",
      "334/334 [==============================] - 1s 4ms/step - loss: 0.1998 - accuracy: 0.9340 - val_loss: 0.7531 - val_accuracy: 0.8419\n",
      "Epoch 7/20\n",
      "325/334 [============================>.] - ETA: 0s - loss: 0.1668 - accuracy: 0.9451\n",
      "Epoch 7: val_loss did not improve from 0.59570\n",
      "334/334 [==============================] - 1s 4ms/step - loss: 0.1684 - accuracy: 0.9440 - val_loss: 0.8760 - val_accuracy: 0.8228\n",
      "Epoch 8/20\n",
      "325/334 [============================>.] - ETA: 0s - loss: 0.1484 - accuracy: 0.9542\n",
      "Epoch 8: val_loss did not improve from 0.59570\n",
      "334/334 [==============================] - 1s 4ms/step - loss: 0.1469 - accuracy: 0.9545 - val_loss: 0.8043 - val_accuracy: 0.8467\n",
      "Epoch 9/20\n",
      "332/334 [============================>.] - ETA: 0s - loss: 0.1404 - accuracy: 0.9563\n",
      "Epoch 9: val_loss did not improve from 0.59570\n",
      "334/334 [==============================] - 1s 4ms/step - loss: 0.1406 - accuracy: 0.9560 - val_loss: 0.8200 - val_accuracy: 0.8359\n",
      "Epoch 10/20\n",
      "324/334 [============================>.] - ETA: 0s - loss: 0.1141 - accuracy: 0.9644\n",
      "Epoch 10: val_loss did not improve from 0.59570\n",
      "334/334 [==============================] - 1s 4ms/step - loss: 0.1186 - accuracy: 0.9636 - val_loss: 0.9005 - val_accuracy: 0.8228\n",
      "Epoch 11/20\n",
      "332/334 [============================>.] - ETA: 0s - loss: 0.1098 - accuracy: 0.9651\n",
      "Epoch 11: val_loss did not improve from 0.59570\n",
      "334/334 [==============================] - 1s 4ms/step - loss: 0.1092 - accuracy: 0.9653 - val_loss: 0.9363 - val_accuracy: 0.8455\n",
      "Epoch 12/20\n",
      "329/334 [============================>.] - ETA: 0s - loss: 0.0933 - accuracy: 0.9696\n",
      "Epoch 12: val_loss did not improve from 0.59570\n",
      "334/334 [==============================] - 1s 4ms/step - loss: 0.0937 - accuracy: 0.9695 - val_loss: 0.9698 - val_accuracy: 0.8419\n",
      "Epoch 13/20\n",
      "324/334 [============================>.] - ETA: 0s - loss: 0.0845 - accuracy: 0.9741\n",
      "Epoch 13: val_loss did not improve from 0.59570\n",
      "334/334 [==============================] - 1s 4ms/step - loss: 0.0856 - accuracy: 0.9737 - val_loss: 1.2391 - val_accuracy: 0.8251\n",
      "Epoch 14/20\n",
      "320/334 [===========================>..] - ETA: 0s - loss: 0.0918 - accuracy: 0.9722\n",
      "Epoch 14: val_loss did not improve from 0.59570\n",
      "334/334 [==============================] - 1s 3ms/step - loss: 0.0922 - accuracy: 0.9723 - val_loss: 1.0210 - val_accuracy: 0.8467\n",
      "Epoch 15/20\n",
      "322/334 [===========================>..] - ETA: 0s - loss: 0.0768 - accuracy: 0.9784\n",
      "Epoch 15: val_loss did not improve from 0.59570\n",
      "334/334 [==============================] - 1s 3ms/step - loss: 0.0792 - accuracy: 0.9777 - val_loss: 1.1457 - val_accuracy: 0.8335\n",
      "Epoch 16/20\n",
      "325/334 [============================>.] - ETA: 0s - loss: 0.0765 - accuracy: 0.9774\n",
      "Epoch 16: val_loss did not improve from 0.59570\n",
      "334/334 [==============================] - 1s 4ms/step - loss: 0.0775 - accuracy: 0.9771 - val_loss: 1.0936 - val_accuracy: 0.8467\n",
      "Epoch 17/20\n",
      "332/334 [============================>.] - ETA: 0s - loss: 0.0715 - accuracy: 0.9797\n",
      "Epoch 17: val_loss did not improve from 0.59570\n",
      "334/334 [==============================] - 1s 4ms/step - loss: 0.0713 - accuracy: 0.9796 - val_loss: 1.3474 - val_accuracy: 0.8335\n",
      "Epoch 18/20\n",
      "329/334 [============================>.] - ETA: 0s - loss: 0.0659 - accuracy: 0.9799\n",
      "Epoch 18: val_loss did not improve from 0.59570\n",
      "334/334 [==============================] - 1s 4ms/step - loss: 0.0653 - accuracy: 0.9801 - val_loss: 1.3230 - val_accuracy: 0.8299\n",
      "Epoch 19/20\n",
      "321/334 [===========================>..] - ETA: 0s - loss: 0.0566 - accuracy: 0.9841\n",
      "Epoch 19: val_loss did not improve from 0.59570\n",
      "334/334 [==============================] - 1s 3ms/step - loss: 0.0577 - accuracy: 0.9840 - val_loss: 1.4366 - val_accuracy: 0.8359\n",
      "Epoch 20/20\n",
      "319/334 [===========================>..] - ETA: 0s - loss: 0.0648 - accuracy: 0.9815\n",
      "Epoch 20: val_loss did not improve from 0.59570\n",
      "334/334 [==============================] - 1s 3ms/step - loss: 0.0665 - accuracy: 0.9810 - val_loss: 1.2668 - val_accuracy: 0.8383\n"
     ]
    }
   ],
   "source": [
    "from keras.callbacks import ModelCheckpoint\n",
    "### TODO: Train the model.\n",
    "#NOTE: had to run all models other than XCeption first, then run only Xception due to GPU memory\n",
    "for network in transfer_learning:\n",
    "    #if network == 'Xception':\n",
    "    print(network)\n",
    "    tf.keras.backend.clear_session()\n",
    "    checkpointer = ModelCheckpoint(filepath=f'saved_models/weights.best.{network}.hdf5', \n",
    "                                verbose=1, save_best_only=True)\n",
    "    train = transfer_learning[network]['bottleneck_features']['train']\n",
    "    valid = transfer_learning[network]['bottleneck_features']['valid']\n",
    "    transfer_learning[network]['history'] = transfer_learning[network]['model'].fit(train, train_targets, \n",
    "            validation_data=(valid, valid_targets),\n",
    "            epochs=20, batch_size=20, callbacks=[checkpointer], verbose=1) "
   ]
  },
  {
   "cell_type": "code",
   "execution_count": 20,
   "metadata": {},
   "outputs": [
    {
     "data": {
      "text/plain": [
       "<matplotlib.legend.Legend at 0x2bd331cea90>"
      ]
     },
     "execution_count": 20,
     "metadata": {},
     "output_type": "execute_result"
    },
    {
     "data": {
      "image/png": "[encoded data removed]",
      "text/plain": [
       "<Figure size 640x480 with 1 Axes>"
      ]
     },
     "metadata": {},
     "output_type": "display_data"
    }
   ],
   "source": [
    "#For each model, plot accuracy and loss\n",
    "plt.title('Categorical cross-entropy loss during training')\n",
    "plt.xlabel('Epoch')\n",
    "plt.xticks(range(len(transfer_learning[network]['history'].history['loss'])))\n",
    "for network in transfer_learning:\n",
    "    loss = transfer_learning[network]['history'].history['loss']\n",
    "    plt.plot(loss, label=network)\n",
    "plt.legend()"
   ]
  },
  {
   "cell_type": "code",
   "execution_count": 21,
   "metadata": {},
   "outputs": [
    {
     "data": {
      "text/plain": [
       "<matplotlib.legend.Legend at 0x2bd7839b5e0>"
      ]
     },
     "execution_count": 21,
     "metadata": {},
     "output_type": "execute_result"
    },
    {
     "data": {
      "image/png": "[encoded data removed]",
      "text/plain": [
       "<Figure size 640x480 with 1 Axes>"
      ]
     },
     "metadata": {},
     "output_type": "display_data"
    }
   ],
   "source": [
    "plt.title('Accuracy during training')\n",
    "plt.xlabel('Epoch')\n",
    "plt.xticks(range(len(transfer_learning[network]['history'].history['accuracy'])))\n",
    "for network in transfer_learning:\n",
    "    accuracy = transfer_learning[network]['history'].history['accuracy']\n",
    "    plt.plot(accuracy, label=network)\n",
    "plt.legend()"
   ]
  },
  {
   "cell_type": "markdown",
   "metadata": {},
   "source": [
    "### (IMPLEMENTATION) Load the Model with the Best Validation Loss"
   ]
  },
  {
   "cell_type": "code",
   "execution_count": 22,
   "metadata": {
    "collapsed": true
   },
   "outputs": [],
   "source": [
    "### TODO: Load the model weights with the best validation loss.\n",
    "for network in transfer_learning:\n",
    "    transfer_learning[network]['model'].load_weights(f'saved_models/weights.best.{network}.hdf5')"
   ]
  },
  {
   "cell_type": "markdown",
   "metadata": {},
   "source": [
    "### (IMPLEMENTATION) Test the Model\n",
    "\n",
    "Try out your model on the test dataset of dog images. Ensure that your test accuracy is greater than 60%."
   ]
  },
  {
   "cell_type": "code",
   "execution_count": 23,
   "metadata": {
    "collapsed": true
   },
   "outputs": [
    {
     "name": "stdout",
     "output_type": "stream",
     "text": [
      "VGG16\n",
      "42/42 [==============================] - 0s 3ms/step\n",
      "Test accuracy: 72.3684%\n",
      "VGG19\n",
      "42/42 [==============================] - 0s 2ms/step\n",
      "Test accuracy: 71.5311%\n",
      "InceptionV3\n",
      "42/42 [==============================] - 0s 3ms/step\n",
      "Test accuracy: 76.5550%\n",
      "Xception\n",
      "42/42 [==============================] - 0s 4ms/step\n",
      "Test accuracy: 81.8182%\n"
     ]
    }
   ],
   "source": [
    "### TODO: Calculate classification accuracy on the test dataset.\n",
    "for network in transfer_learning:\n",
    "    print(network)\n",
    "    test = transfer_learning[network]['bottleneck_features']['test']\n",
    "    test_predictions = transfer_learning[network]['model'].predict(test, batch_size=20)\n",
    "    test_accuracy = 100 * np.mean(np.argmax(test_predictions, axis=1) == np.argmax(test_targets, axis=1))\n",
    "    print('Test accuracy: %.4f%%' % test_accuracy)"
   ]
  },
  {
   "cell_type": "code",
   "execution_count": 24,
   "metadata": {},
   "outputs": [
    {
     "name": "stdout",
     "output_type": "stream",
     "text": [
      "VGG16\n",
      "42/42 [==============================] - 0s 5ms/step - loss: 1.8406 - accuracy: 0.7237\n",
      "VGG19\n",
      "42/42 [==============================] - 0s 3ms/step - loss: 1.7524 - accuracy: 0.7153\n",
      "InceptionV3\n",
      "42/42 [==============================] - 0s 4ms/step - loss: 0.8597 - accuracy: 0.7656\n",
      "Xception\n",
      "42/42 [==============================] - 0s 6ms/step - loss: 0.6768 - accuracy: 0.8182\n"
     ]
    }
   ],
   "source": [
    "for network in transfer_learning:\n",
    "    print(network)\n",
    "    test = transfer_learning[network]['bottleneck_features']['test']\n",
    "    evaluate = transfer_learning[network]['model'].evaluate(test, test_targets, batch_size=20)\n",
    "    transfer_learning[network]['test_loss'] = evaluate[0]\n",
    "    transfer_learning[network]['test_accuracy'] = evaluate[1]"
   ]
  },
  {
   "cell_type": "code",
   "execution_count": 25,
   "metadata": {},
   "outputs": [
    {
     "data": {
      "text/plain": [
       "Text(0.5, 1.0, 'Categorical cross-entropy loss')"
      ]
     },
     "execution_count": 25,
     "metadata": {},
     "output_type": "execute_result"
    },
    {
     "data": {
      "image/png": "[encoded data removed]",
      "text/plain": [
       "<Figure size 640x480 with 1 Axes>"
      ]
     },
     "metadata": {},
     "output_type": "display_data"
    }
   ],
   "source": [
    "for network in transfer_learning:\n",
    "    plt.bar(network, transfer_learning[network]['test_loss'])\n",
    "plt.title('Categorical cross-entropy loss')"
   ]
  },
  {
   "cell_type": "code",
   "execution_count": 26,
   "metadata": {},
   "outputs": [
    {
     "data": {
      "text/plain": [
       "Text(0.5, 1.0, 'Accuracy')"
      ]
     },
     "execution_count": 26,
     "metadata": {},
     "output_type": "execute_result"
    },
    {
     "data": {
      "image/png": "[encoded data removed]",
      "text/plain": [
       "<Figure size 640x480 with 1 Axes>"
      ]
     },
     "metadata": {},
     "output_type": "display_data"
    }
   ],
   "source": [
    "for network in transfer_learning:\n",
    "    plt.bar(network, transfer_learning[network]['test_accuracy'])\n",
    "plt.title('Accuracy')"
   ]
  },
  {
   "cell_type": "markdown",
   "metadata": {},
   "source": [
    "### (IMPLEMENTATION) Predict Dog Breed with the Model\n",
    "\n",
    "Write a function that takes an image path as input and returns the dog breed (`Affenpinscher`, `Afghan_hound`, etc) that is predicted by your model.  \n",
    "\n",
    "Similar to the analogous function in Step 5, your function should have three steps:\n",
    "1. Extract the bottleneck features corresponding to the chosen CNN model.\n",
    "2. Supply the bottleneck features as input to the model to return the predicted vector.  Note that the argmax of this prediction vector gives the index of the predicted dog breed.\n",
    "3. Use the `dog_names` array defined in Step 0 of this notebook to return the corresponding breed.\n",
    "\n",
    "The functions to extract the bottleneck features can be found in `extract_bottleneck_features.py`, and they have been imported in an earlier code cell.  To obtain the bottleneck features corresponding to your chosen CNN architecture, you need to use the function\n",
    "\n",
    "    extract_{network}\n",
    "    \n",
    "where `{network}`, in the above filename, should be one of `VGG19`, `Resnet50`, `InceptionV3`, or `Xception`."
   ]
  },
  {
   "cell_type": "code",
   "execution_count": 37,
   "metadata": {
    "collapsed": true
   },
   "outputs": [],
   "source": [
    "### TODO: Write a function that takes a path to an image as input\n",
    "### and returns the dog breed that is predicted by the model.\n",
    "from extract_bottleneck_features import *\n",
    "from tensorflow.keras.applications.vgg16 import VGG16, preprocess_input as vgg16pp\n",
    "from tensorflow.keras.applications.vgg19 import VGG19, preprocess_input as vgg19pp\n",
    "from tensorflow.keras.applications.xception import Xception, preprocess_input as xceptionpp\n",
    "from tensorflow.keras.applications.inception_v3 import InceptionV3, preprocess_input as inceptionv3pp\n",
    "from tensorflow.keras.models import load_model\n",
    "\n",
    "#Create final model by concatenated pre-trained model with transfer learning model\n",
    "models = {}\n",
    "transfer_models = {}\n",
    "preprocessing = {}\n",
    "\n",
    "#get pre-trained models and corresponding preprocess_input functions\n",
    "models['VGG16'] = VGG16(weights='imagenet', include_top=False)\n",
    "preprocessing['VGG16'] = vgg16pp\n",
    "models['VGG19'] = VGG19(weights='imagenet', include_top=False)\n",
    "preprocessing['VGG19'] = vgg19pp\n",
    "models['Xception'] = Xception(weights='imagenet', include_top=False)\n",
    "preprocessing['Xception'] = xceptionpp\n",
    "models['InceptionV3'] = InceptionV3(weights='imagenet', include_top=False)\n",
    "preprocessing['InceptionV3'] = inceptionv3pp\n",
    "\n",
    "#get best trained models\n",
    "for network in ['VGG16', 'VGG19', 'InceptionV3', 'Xception']:\n",
    "    transfer_models[network] = load_model(f'saved_models/weights.best.{network}.hdf5')\n",
    "\n",
    "def predict_breed(img_path, network):\n",
    "    #get bottleneck features from pre-trained model\n",
    "    features = models[network].predict(preprocessing[network](path_to_tensor(img_path)))\n",
    "    #use trained model to get prediction\n",
    "    predicted_vector = transfer_models[network].predict(features)\n",
    "    # return dog breed that is predicted by the model\n",
    "    return dog_names[np.argmax(predicted_vector)]"
   ]
  },
  {
   "cell_type": "markdown",
   "metadata": {},
   "source": [
    "---\n",
    "<a id='step6'></a>\n",
    "## Step 6: Write your Algorithm\n",
    "\n",
    "Write an algorithm that accepts a file path to an image and first determines whether the image contains a human, dog, or neither.  Then,\n",
    "- if a __dog__ is detected in the image, return the predicted breed.\n",
    "- if a __human__ is detected in the image, return the resembling dog breed.\n",
    "- if __neither__ is detected in the image, provide output that indicates an error.\n",
    "\n",
    "You are welcome to write your own functions for detecting humans and dogs in images, but feel free to use the `face_detector` and `dog_detector` functions developed above.  You are __required__ to use your CNN from Step 5 to predict dog breed.  \n",
    "\n",
    "A sample image and output for our algorithm is provided below, but feel free to design your own user experience!\n",
    "\n",
    "![Sample Human Output](images/sample_human_2.png)\n",
    "\n",
    "This photo looks like an Afghan Hound.\n",
    "### (IMPLEMENTATION) Write your Algorithm"
   ]
  },
  {
   "cell_type": "code",
   "execution_count": 38,
   "metadata": {
    "collapsed": true
   },
   "outputs": [],
   "source": [
    "### TODO: Write your algorithm.\n",
    "### Feel free to use as many code cells as needed.\n",
    "def classify(img_path, network):\n",
    "    if dog_detector(img_path):\n",
    "        print('Dog detected')\n",
    "        breed = predict_breed(img_path, network)\n",
    "        print(f'Dog detected of breed {breed}')\n",
    "        return breed\n",
    "    elif face_detector(img_path):\n",
    "        breed = predict_breed(img_path, network)\n",
    "        print(f'Human detected resembling breed {breed}')\n",
    "        return breed\n",
    "    else:\n",
    "        print('Neither dog nor human were detected')\n",
    "        return None"
   ]
  },
  {
   "cell_type": "markdown",
   "metadata": {},
   "source": [
    "---\n",
    "<a id='step7'></a>\n",
    "## Step 7: Test Your Algorithm\n",
    "\n",
    "In this section, you will take your new algorithm for a spin!  What kind of dog does the algorithm think that __you__ look like?  If you have a dog, does it predict your dog's breed accurately?  If you have a cat, does it mistakenly think that your cat is a dog?\n",
    "\n",
    "### (IMPLEMENTATION) Test Your Algorithm on Sample Images!\n",
    "\n",
    "Test your algorithm at least six images on your computer.  Feel free to use any images you like.  Use at least two human and two dog images.  \n",
    "\n",
    "__Question 6:__ Is the output better than you expected :) ?  Or worse :( ?  Provide at least three possible points of improvement for your algorithm.\n",
    "\n",
    "__Answer:__ "
   ]
  },
  {
   "cell_type": "markdown",
   "metadata": {},
   "source": [
    "The output performed pretty well, which is expected due to the application of transfer learning using pre-trained models. Overall, the Xception transfer learning model had the best performance. Unfortunately, trying to perform transfer learning on Resnet50 yielded an error due to non-matching feature shape (possibly because this notebook was designed for an earlier iteration of TensorFlow and resnet50 model). All of the other transfer-learning models were able to pick out different versions of the Labrador retriever, although not all of the models were able to pick out the American water spaniel example. The models also seem to not be consistent at predicting dog likeness in humans.\n",
    "\n",
    "Some ways to improve the model could be:\n",
    "- increasing either the number of epochs or batch size so the model could learn from more varied samples\n",
    "- implementing higher dropout rates to further reduce overfitting to the model training set\n",
    "- adding more dense layers, while adding more complexity and training time, could also lead to an increase in performance"
   ]
  },
  {
   "cell_type": "code",
   "execution_count": 39,
   "metadata": {
    "collapsed": true
   },
   "outputs": [
    {
     "name": "stdout",
     "output_type": "stream",
     "text": [
      "VGG16\n",
      "1/1 [==============================] - 0s 21ms/step\n"
     ]
    },
    {
     "name": "stdout",
     "output_type": "stream",
     "text": [
      "Dog detected\n",
      "1/1 [==============================] - 0s 119ms/step\n",
      "1/1 [==============================] - 0s 26ms/step\n",
      "Dog detected of breed Flat-coated_retriever\n",
      "VGG19\n",
      "1/1 [==============================] - 0s 18ms/step\n",
      "Dog detected\n",
      "1/1 [==============================] - 0s 94ms/step\n",
      "1/1 [==============================] - 0s 32ms/step\n",
      "Dog detected of breed Portuguese_water_dog\n",
      "InceptionV3\n",
      "1/1 [==============================] - 0s 20ms/step\n",
      "Dog detected\n",
      "1/1 [==============================] - 1s 798ms/step\n",
      "1/1 [==============================] - 0s 32ms/step\n",
      "Dog detected of breed American_water_spaniel\n",
      "Xception\n",
      "1/1 [==============================] - 0s 18ms/step\n",
      "Dog detected\n",
      "1/1 [==============================] - 0s 453ms/step\n",
      "1/1 [==============================] - 0s 41ms/step\n",
      "Dog detected of breed American_water_spaniel\n"
     ]
    }
   ],
   "source": [
    "## TODO: Execute your algorithm from Step 6 on\n",
    "## at least 6 images on your computer.\n",
    "## Feel free to use as many code cells as needed.\n",
    "for network in ['VGG16', 'VGG19', 'InceptionV3', 'Xception']:\n",
    "    print(network)\n",
    "    classify('images/American_water_spaniel_00648.jpg', network)"
   ]
  },
  {
   "cell_type": "code",
   "execution_count": 40,
   "metadata": {},
   "outputs": [
    {
     "name": "stdout",
     "output_type": "stream",
     "text": [
      "VGG16\n",
      "1/1 [==============================] - 0s 20ms/step\n"
     ]
    },
    {
     "name": "stdout",
     "output_type": "stream",
     "text": [
      "Dog detected\n",
      "1/1 [==============================] - 0s 17ms/step\n",
      "1/1 [==============================] - 0s 14ms/step\n",
      "Dog detected of breed Curly-coated_retriever\n",
      "VGG19\n",
      "1/1 [==============================] - 0s 18ms/step\n",
      "Dog detected\n",
      "1/1 [==============================] - 0s 15ms/step\n",
      "1/1 [==============================] - 0s 13ms/step\n",
      "Dog detected of breed Curly-coated_retriever\n",
      "InceptionV3\n",
      "1/1 [==============================] - 0s 18ms/step\n",
      "Dog detected\n",
      "1/1 [==============================] - 0s 19ms/step\n",
      "1/1 [==============================] - 0s 13ms/step\n",
      "Dog detected of breed Curly-coated_retriever\n",
      "Xception\n",
      "1/1 [==============================] - 0s 16ms/step\n",
      "Dog detected\n",
      "1/1 [==============================] - 0s 18ms/step\n",
      "1/1 [==============================] - 0s 14ms/step\n",
      "Dog detected of breed Curly-coated_retriever\n"
     ]
    }
   ],
   "source": [
    "for network in ['VGG16', 'VGG19', 'InceptionV3', 'Xception']:\n",
    "    print(network)\n",
    "    classify('images/Curly-coated_retriever_03896.jpg', network)"
   ]
  },
  {
   "cell_type": "code",
   "execution_count": 41,
   "metadata": {},
   "outputs": [
    {
     "name": "stdout",
     "output_type": "stream",
     "text": [
      "VGG16\n",
      "1/1 [==============================] - 0s 21ms/step\n"
     ]
    },
    {
     "name": "stdout",
     "output_type": "stream",
     "text": [
      "Dog detected\n",
      "1/1 [==============================] - 0s 15ms/step\n",
      "1/1 [==============================] - 0s 14ms/step\n",
      "Dog detected of breed Welsh_springer_spaniel\n",
      "VGG19\n",
      "1/1 [==============================] - 0s 18ms/step\n",
      "Dog detected\n",
      "1/1 [==============================] - 0s 16ms/step\n",
      "1/1 [==============================] - 0s 14ms/step\n",
      "Dog detected of breed Irish_red_and_white_setter\n",
      "InceptionV3\n",
      "1/1 [==============================] - 0s 18ms/step\n",
      "Dog detected\n",
      "1/1 [==============================] - 0s 20ms/step\n",
      "1/1 [==============================] - 0s 13ms/step\n",
      "Dog detected of breed Welsh_springer_spaniel\n",
      "Xception\n",
      "1/1 [==============================] - 0s 18ms/step\n",
      "Dog detected\n",
      "1/1 [==============================] - 0s 21ms/step\n",
      "1/1 [==============================] - 0s 14ms/step\n",
      "Dog detected of breed Welsh_springer_spaniel\n"
     ]
    }
   ],
   "source": [
    "for network in ['VGG16', 'VGG19', 'InceptionV3', 'Xception']:\n",
    "    print(network)\n",
    "    classify('images/Welsh_springer_spaniel_08203.jpg', network)"
   ]
  },
  {
   "cell_type": "code",
   "execution_count": 42,
   "metadata": {},
   "outputs": [
    {
     "name": "stdout",
     "output_type": "stream",
     "text": [
      "VGG16\n",
      "1/1 [==============================] - 0s 19ms/step\n"
     ]
    },
    {
     "name": "stdout",
     "output_type": "stream",
     "text": [
      "Neither dog nor human were detected\n",
      "VGG19\n",
      "1/1 [==============================] - 0s 18ms/step\n",
      "Neither dog nor human were detected\n",
      "InceptionV3\n",
      "1/1 [==============================] - 0s 18ms/step\n",
      "Neither dog nor human were detected\n",
      "Xception\n",
      "1/1 [==============================] - 0s 18ms/step\n",
      "Neither dog nor human were detected\n"
     ]
    }
   ],
   "source": [
    "for network in ['VGG16', 'VGG19', 'InceptionV3', 'Xception']:\n",
    "    print(network)\n",
    "    classify('images/sample_cnn.png', network)"
   ]
  },
  {
   "cell_type": "code",
   "execution_count": 43,
   "metadata": {},
   "outputs": [
    {
     "name": "stdout",
     "output_type": "stream",
     "text": [
      "VGG16\n",
      "1/1 [==============================] - 0s 21ms/step\n"
     ]
    },
    {
     "name": "stdout",
     "output_type": "stream",
     "text": [
      "Dog detected\n",
      "1/1 [==============================] - 0s 15ms/step\n",
      "1/1 [==============================] - 0s 13ms/step\n",
      "Dog detected of breed Labrador_retriever\n",
      "VGG19\n",
      "1/1 [==============================] - 0s 18ms/step\n",
      "Dog detected\n",
      "1/1 [==============================] - 0s 15ms/step\n",
      "1/1 [==============================] - 0s 14ms/step\n",
      "Dog detected of breed Labrador_retriever\n",
      "InceptionV3\n",
      "1/1 [==============================] - 0s 20ms/step\n",
      "Dog detected\n",
      "1/1 [==============================] - 0s 21ms/step\n",
      "1/1 [==============================] - 0s 14ms/step\n",
      "Dog detected of breed Labrador_retriever\n",
      "Xception\n",
      "1/1 [==============================] - 0s 19ms/step\n",
      "Dog detected\n",
      "1/1 [==============================] - 0s 16ms/step\n",
      "1/1 [==============================] - 0s 13ms/step\n",
      "Dog detected of breed Labrador_retriever\n"
     ]
    }
   ],
   "source": [
    "for network in ['VGG16', 'VGG19', 'InceptionV3', 'Xception']:\n",
    "    print(network)\n",
    "    classify('images/Labrador_retriever_06449.jpg', network)"
   ]
  },
  {
   "cell_type": "code",
   "execution_count": 44,
   "metadata": {},
   "outputs": [
    {
     "name": "stdout",
     "output_type": "stream",
     "text": [
      "VGG16\n",
      "1/1 [==============================] - 0s 25ms/step\n",
      "Dog detected\n",
      "1/1 [==============================] - ETA: 0s"
     ]
    },
    {
     "name": "stdout",
     "output_type": "stream",
     "text": [
      "1/1 [==============================] - 0s 19ms/step\n",
      "1/1 [==============================] - 0s 14ms/step\n",
      "Dog detected of breed Labrador_retriever\n",
      "VGG19\n",
      "1/1 [==============================] - 0s 17ms/step\n",
      "Dog detected\n",
      "1/1 [==============================] - 0s 14ms/step\n",
      "1/1 [==============================] - 0s 14ms/step\n",
      "Dog detected of breed Labrador_retriever\n",
      "InceptionV3\n",
      "1/1 [==============================] - 0s 19ms/step\n",
      "Dog detected\n",
      "1/1 [==============================] - 0s 21ms/step\n",
      "1/1 [==============================] - 0s 14ms/step\n",
      "Dog detected of breed Labrador_retriever\n",
      "Xception\n",
      "1/1 [==============================] - 0s 18ms/step\n",
      "Dog detected\n",
      "1/1 [==============================] - 0s 17ms/step\n",
      "1/1 [==============================] - 0s 14ms/step\n",
      "Dog detected of breed Labrador_retriever\n"
     ]
    }
   ],
   "source": [
    "for network in ['VGG16', 'VGG19', 'InceptionV3', 'Xception']:\n",
    "    print(network)\n",
    "    classify('images/Labrador_retriever_06457.jpg', network)"
   ]
  },
  {
   "cell_type": "code",
   "execution_count": 45,
   "metadata": {},
   "outputs": [
    {
     "name": "stdout",
     "output_type": "stream",
     "text": [
      "VGG16\n",
      "1/1 [==============================] - 0s 18ms/step\n"
     ]
    },
    {
     "name": "stdout",
     "output_type": "stream",
     "text": [
      "1/1 [==============================] - 0s 15ms/step\n",
      "1/1 [==============================] - 0s 13ms/step\n",
      "Human detected resmbling breed Pekingese\n",
      "VGG19\n",
      "1/1 [==============================] - 0s 17ms/step\n",
      "1/1 [==============================] - 0s 15ms/step\n",
      "1/1 [==============================] - 0s 12ms/step\n",
      "Human detected resmbling breed Maltese\n",
      "InceptionV3\n",
      "1/1 [==============================] - 0s 19ms/step\n",
      "1/1 [==============================] - 0s 23ms/step\n",
      "1/1 [==============================] - 0s 14ms/step\n",
      "Human detected resmbling breed Mastiff\n",
      "Xception\n",
      "1/1 [==============================] - 0s 21ms/step\n",
      "1/1 [==============================] - 0s 15ms/step\n",
      "1/1 [==============================] - 0s 13ms/step\n",
      "Human detected resmbling breed Afghan_hound\n"
     ]
    }
   ],
   "source": [
    "for network in ['VGG16', 'VGG19', 'InceptionV3', 'Xception']:\n",
    "    print(network)\n",
    "    classify('images/sample_human_2.png', network)"
   ]
  },
  {
   "cell_type": "markdown",
   "metadata": {},
   "source": [
    "# Save model training/validation/testing loss and accuracy"
   ]
  },
  {
   "cell_type": "code",
   "execution_count": 52,
   "metadata": {},
   "outputs": [],
   "source": [
    "dog_model_metrics = {}\n",
    "for network in transfer_learning:\n",
    "    stats = {}\n",
    "    stats['history'] = transfer_learning[network]['history'].history\n",
    "    stats['test_loss'] = transfer_learning[network]['test_loss']\n",
    "    stats['test_accuracy'] = transfer_learning[network]['test_accuracy']\n",
    "    dog_model_metrics[network] = stats\n",
    "\n",
    "import pickle\n",
    "with open('model.metrics', 'wb') as file:\n",
    "    pickle.dump(dog_model_metrics, file)"
   ]
  }
 ],
 "metadata": {
  "anaconda-cloud": {},
  "kernelspec": {
   "display_name": "Python 3",
   "language": "python",
   "name": "python3"
  },
  "language_info": {
   "codemirror_mode": {
    "name": "ipython",
    "version": 3
   },
   "file_extension": ".py",
   "mimetype": "text/x-python",
   "name": "python",
   "nbconvert_exporter": "python",
   "pygments_lexer": "ipython3",
   "version": "3.9.18"
  }
 },
 "nbformat": 4,
 "nbformat_minor": 1
}
